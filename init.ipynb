{
 "cells": [
  {
   "cell_type": "markdown",
   "source": "## Initialization Notebook\nThis is your initialization notebook.\n\n**What's this for?**\n\nYou can put custom code you want us to run every time we setup your environment in here. \n\n**Awesome! Anything I should not put in here?**\n\nPlease don't install `jupyter` or `jedi` packages, they would break your Deepnote environment. Also, no need to put `!pip install`s here, we already save those automatically!\n\n**I want to learn more!**\n\nGreat! Just [head over to our docs](https://docs.deepnote.com/environment/custom-initialization).",
   "metadata": {
    "tags": [],
    "cell_id": "dea1ad32-5f6d-4a04-9902-beaf6f600a07",
    "deepnote_cell_type": "markdown"
   }
  },
  {
   "cell_type": "code",
   "metadata": {
    "tags": [],
    "cell_id": "00001-30dfdac9-60d2-4dc8-9352-f1a3d64428ff",
    "deepnote_to_be_reexecuted": false,
    "source_hash": "60b37886",
    "execution_start": 1647052360375,
    "execution_millis": 31696,
    "deepnote_cell_type": "code"
   },
   "source": "%%bash\n# If your project has a 'requirements.txt' file, we'll install it here apart from blacklisted packages that interfere with Deepnote (see above).\nif test -f requirements.txt\n  then\n    sed -i '/jedi/d;/jupyter/d;' ./requirements.txt\n    pip install -r ./requirements.txt\n  else echo \"There's no requirements.txt, so nothing to install. This is the case with most projects.\"\nfi",
   "execution_count": 1,
   "outputs": [
    {
     "name": "stdout",
     "text": "Collecting gspread==4.0.1\n  Downloading gspread-4.0.1-py3-none-any.whl (29 kB)\nCollecting gspread-dataframe==3.2.1\n  Downloading gspread_dataframe-3.2.1-py2.py3-none-any.whl (7.8 kB)\nCollecting google-api-python-client==2.18.0\n  Downloading google_api_python_client-2.18.0-py2.py3-none-any.whl (7.4 MB)\nCollecting google-auth-httplib2==0.1.0\n  Downloading google_auth_httplib2-0.1.0-py2.py3-none-any.whl (9.3 kB)\nCollecting google-auth-oauthlib==0.4.1\n  Downloading google_auth_oauthlib-0.4.1-py2.py3-none-any.whl (18 kB)\nCollecting hashids==1.0.2\n  Downloading hashids-1.0.2.tar.gz (8.0 kB)\nCollecting hubspot-api-client==3.8.2\n  Downloading hubspot_api_client-3.8.2-py3-none-any.whl (2.0 MB)\nCollecting simplejson==3.17.6\n  Downloading simplejson-3.17.6-cp37-cp37m-manylinux_2_5_x86_64.manylinux1_x86_64.manylinux_2_12_x86_64.manylinux2010_x86_64.whl (130 kB)\nCollecting delorean==1.0.0\n  Downloading Delorean-1.0.0.tar.gz (18 kB)\nRequirement already satisfied: PyMySQL==1.0.2 in /shared-libs/python3.7/py-core/lib/python3.7/site-packages (from -r ./requirements.txt (line 10)) (1.0.2)\nCollecting colab-env==0.2.0\n  Downloading colab-env-0.2.0.tar.gz (4.7 kB)\nRequirement already satisfied: google-auth>=1.12.0 in /shared-libs/python3.7/py-core/lib/python3.7/site-packages (from gspread==4.0.1->-r ./requirements.txt (line 1)) (2.6.0)\nRequirement already satisfied: six>=1.12.0 in /shared-libs/python3.7/py-core/lib/python3.7/site-packages (from gspread-dataframe==3.2.1->-r ./requirements.txt (line 2)) (1.16.0)\nRequirement already satisfied: pandas>=0.24.0 in /shared-libs/python3.7/py/lib/python3.7/site-packages (from gspread-dataframe==3.2.1->-r ./requirements.txt (line 2)) (1.3.5)\nRequirement already satisfied: google-api-core<3.0.0dev,>=1.21.0 in /shared-libs/python3.7/py-core/lib/python3.7/site-packages (from google-api-python-client==2.18.0->-r ./requirements.txt (line 3)) (2.6.1)\nCollecting uritemplate<4dev,>=3.0.0\n  Downloading uritemplate-3.0.1-py2.py3-none-any.whl (15 kB)\nCollecting httplib2<1dev,>=0.15.0\n  Downloading httplib2-0.20.4-py3-none-any.whl (96 kB)\nRequirement already satisfied: requests-oauthlib>=0.7.0 in /shared-libs/python3.7/py/lib/python3.7/site-packages (from google-auth-oauthlib==0.4.1->-r ./requirements.txt (line 5)) (1.3.1)\nRequirement already satisfied: future>=0.14.3 in /shared-libs/python3.7/py-core/lib/python3.7/site-packages (from hashids==1.0.2->-r ./requirements.txt (line 6)) (0.18.2)\nRequirement already satisfied: python-dateutil in /shared-libs/python3.7/py-core/lib/python3.7/site-packages (from hubspot-api-client==3.8.2->-r ./requirements.txt (line 7)) (2.8.2)\nRequirement already satisfied: urllib3>=1.15 in /shared-libs/python3.7/py-core/lib/python3.7/site-packages (from hubspot-api-client==3.8.2->-r ./requirements.txt (line 7)) (1.26.8)\nRequirement already satisfied: certifi in /shared-libs/python3.7/py-core/lib/python3.7/site-packages (from hubspot-api-client==3.8.2->-r ./requirements.txt (line 7)) (2021.10.8)\nRequirement already satisfied: babel>=2.1.1 in /shared-libs/python3.7/py/lib/python3.7/site-packages (from delorean==1.0.0->-r ./requirements.txt (line 9)) (2.9.1)\nCollecting humanize>=0.5.1\n  Downloading humanize-4.0.0-py3-none-any.whl (97 kB)\nRequirement already satisfied: pytz>=2015.7 in /shared-libs/python3.7/py-core/lib/python3.7/site-packages (from delorean==1.0.0->-r ./requirements.txt (line 9)) (2021.3)\nCollecting tzlocal>=1.2\n  Downloading tzlocal-4.1-py3-none-any.whl (19 kB)\nCollecting python-dotenv<1.0,>=0.10.0\n  Downloading python_dotenv-0.19.2-py2.py3-none-any.whl (17 kB)\nRequirement already satisfied: cachetools<6.0,>=2.0.0 in /shared-libs/python3.7/py-core/lib/python3.7/site-packages (from google-auth>=1.12.0->gspread==4.0.1->-r ./requirements.txt (line 1)) (5.0.0)\nRequirement already satisfied: pyasn1-modules>=0.2.1 in /shared-libs/python3.7/py-core/lib/python3.7/site-packages (from google-auth>=1.12.0->gspread==4.0.1->-r ./requirements.txt (line 1)) (0.2.8)\nRequirement already satisfied: rsa<5,>=3.1.4; python_version >= \"3.6\" in /shared-libs/python3.7/py-core/lib/python3.7/site-packages (from google-auth>=1.12.0->gspread==4.0.1->-r ./requirements.txt (line 1)) (4.8)\nRequirement already satisfied: numpy>=1.17.3; platform_machine != \"aarch64\" and platform_machine != \"arm64\" and python_version < \"3.10\" in /shared-libs/python3.7/py-core/lib/python3.7/site-packages (from pandas>=0.24.0->gspread-dataframe==3.2.1->-r ./requirements.txt (line 2)) (1.21.5)\nRequirement already satisfied: protobuf>=3.12.0 in /shared-libs/python3.7/py-core/lib/python3.7/site-packages (from google-api-core<3.0.0dev,>=1.21.0->google-api-python-client==2.18.0->-r ./requirements.txt (line 3)) (3.19.4)\nRequirement already satisfied: requests<3.0.0dev,>=2.18.0 in /shared-libs/python3.7/py-core/lib/python3.7/site-packages (from google-api-core<3.0.0dev,>=1.21.0->google-api-python-client==2.18.0->-r ./requirements.txt (line 3)) (2.27.1)\nRequirement already satisfied: googleapis-common-protos<2.0dev,>=1.52.0 in /shared-libs/python3.7/py-core/lib/python3.7/site-packages (from google-api-core<3.0.0dev,>=1.21.0->google-api-python-client==2.18.0->-r ./requirements.txt (line 3)) (1.55.0)\nRequirement already satisfied: pyparsing!=3.0.0,!=3.0.1,!=3.0.2,!=3.0.3,<4,>=2.4.2; python_version > \"3.0\" in /shared-libs/python3.7/py-core/lib/python3.7/site-packages (from httplib2<1dev,>=0.15.0->google-api-python-client==2.18.0->-r ./requirements.txt (line 3)) (3.0.7)\nRequirement already satisfied: oauthlib>=3.0.0 in /shared-libs/python3.7/py/lib/python3.7/site-packages (from requests-oauthlib>=0.7.0->google-auth-oauthlib==0.4.1->-r ./requirements.txt (line 5)) (3.2.0)\nRequirement already satisfied: importlib-metadata; python_version < \"3.8\" in /shared-libs/python3.7/py-core/lib/python3.7/site-packages (from humanize>=0.5.1->delorean==1.0.0->-r ./requirements.txt (line 9)) (4.11.2)\nCollecting backports.zoneinfo; python_version < \"3.9\"\n  Downloading backports.zoneinfo-0.2.1-cp37-cp37m-manylinux1_x86_64.whl (70 kB)\nCollecting pytz-deprecation-shim\n  Downloading pytz_deprecation_shim-0.1.0.post0-py2.py3-none-any.whl (15 kB)\nRequirement already satisfied: pyasn1<0.5.0,>=0.4.6 in /shared-libs/python3.7/py-core/lib/python3.7/site-packages (from pyasn1-modules>=0.2.1->google-auth>=1.12.0->gspread==4.0.1->-r ./requirements.txt (line 1)) (0.4.8)\nRequirement already satisfied: charset-normalizer~=2.0.0; python_version >= \"3\" in /shared-libs/python3.7/py-core/lib/python3.7/site-packages (from requests<3.0.0dev,>=2.18.0->google-api-core<3.0.0dev,>=1.21.0->google-api-python-client==2.18.0->-r ./requirements.txt (line 3)) (2.0.12)\nRequirement already satisfied: idna<4,>=2.5; python_version >= \"3\" in /shared-libs/python3.7/py-core/lib/python3.7/site-packages (from requests<3.0.0dev,>=2.18.0->google-api-core<3.0.0dev,>=1.21.0->google-api-python-client==2.18.0->-r ./requirements.txt (line 3)) (3.3)\nRequirement already satisfied: zipp>=0.5 in /shared-libs/python3.7/py-core/lib/python3.7/site-packages (from importlib-metadata; python_version < \"3.8\"->humanize>=0.5.1->delorean==1.0.0->-r ./requirements.txt (line 9)) (3.7.0)\nRequirement already satisfied: typing-extensions>=3.6.4; python_version < \"3.8\" in /shared-libs/python3.7/py-core/lib/python3.7/site-packages (from importlib-metadata; python_version < \"3.8\"->humanize>=0.5.1->delorean==1.0.0->-r ./requirements.txt (line 9)) (4.1.1)\nCollecting tzdata; python_version >= \"3.6\"\n  Downloading tzdata-2021.5-py2.py3-none-any.whl (339 kB)\nBuilding wheels for collected packages: hashids, delorean, colab-env\n  Building wheel for hashids (setup.py): started\n  Building wheel for hashids (setup.py): finished with status 'done'\n  Created wheel for hashids: filename=hashids-1.0.2-py3-none-any.whl size=6443 sha256=3c4f13d63e49acfbbd384dc2e71adbda32f6f2c1e37210e8ef09466556ae087a\n  Stored in directory: /root/.cache/pip/wheels/2f/82/15/2bec8a1094439084d6e27c4aa6b55697e13e0d6e66391deea1\n  Building wheel for delorean (setup.py): started\n  Building wheel for delorean (setup.py): finished with status 'done'\n  Created wheel for delorean: filename=Delorean-1.0.0-py3-none-any.whl size=9580 sha256=e4549f1aa3a8d8e8f5f6e8c644b1cff7674ed17839a07e094da0daf7112e8264\n  Stored in directory: /root/.cache/pip/wheels/2c/74/9f/ee1a620f88655064739468477eed3a3e97b6e0090f87b79db1\n  Building wheel for colab-env (setup.py): started\n  Building wheel for colab-env (setup.py): finished with status 'done'\n  Created wheel for colab-env: filename=colab_env-0.2.0-py3-none-any.whl size=3836 sha256=7a30cba2c01b1745285ffc809fd13008ebfc61c2b89669562d167d6e71860217\n  Stored in directory: /root/.cache/pip/wheels/bb/ca/e8/3d25b6abb4ac719ecb9e837bb75f2a9b980430005fb12a9107\nSuccessfully built hashids delorean colab-env\nInstalling collected packages: google-auth-oauthlib, gspread, gspread-dataframe, uritemplate, httplib2, google-auth-httplib2, google-api-python-client, hashids, hubspot-api-client, simplejson, humanize, backports.zoneinfo, tzdata, pytz-deprecation-shim, tzlocal, delorean, python-dotenv, colab-env\n  Attempting uninstall: google-auth-oauthlib\n    Found existing installation: google-auth-oauthlib 0.4.6\n    Not uninstalling google-auth-oauthlib at /shared-libs/python3.7/py/lib/python3.7/site-packages, outside environment /root/venv\n    Can't uninstall 'google-auth-oauthlib'. No files were found to uninstall.\nSuccessfully installed backports.zoneinfo-0.2.1 colab-env-0.2.0 delorean-1.0.0 google-api-python-client-2.18.0 google-auth-httplib2-0.1.0 google-auth-oauthlib-0.4.1 gspread-4.0.1 gspread-dataframe-3.2.1 hashids-1.0.2 httplib2-0.20.4 hubspot-api-client-3.8.2 humanize-4.0.0 python-dotenv-0.19.2 pytz-deprecation-shim-0.1.0.post0 simplejson-3.17.6 tzdata-2021.5 tzlocal-4.1 uritemplate-3.0.1\nWARNING: You are using pip version 20.1.1; however, version 22.0.4 is available.\nYou should consider upgrading via the '/root/venv/bin/python -m pip install --upgrade pip' command.\n",
     "output_type": "stream"
    }
   ]
  },
  {
   "cell_type": "code",
   "metadata": {
    "cell_id": "b1f4b196-21a9-455e-bf43-9b1895964771",
    "tags": [],
    "deepnote_to_be_reexecuted": false,
    "source_hash": "c379a103",
    "execution_start": 1647052392084,
    "execution_millis": 2449,
    "deepnote_cell_type": "code"
   },
   "source": "!pip list | grep 'virtualenv\\|setuptools'",
   "execution_count": 2,
   "outputs": [
    {
     "name": "stdout",
     "text": "setuptools                    47.1.0\n\u001b[33mWARNING: You are using pip version 20.1.1; however, version 22.0.4 is available.\nYou should consider upgrading via the '/root/venv/bin/python -m pip install --upgrade pip' command.\u001b[0m\n",
     "output_type": "stream"
    }
   ]
  },
  {
   "cell_type": "code",
   "metadata": {
    "cell_id": "a04578a9-fbb1-4e56-ab24-b3bcf2959e2a",
    "tags": [],
    "deepnote_to_be_reexecuted": false,
    "source_hash": "72ec6ba2",
    "execution_start": 1647052394534,
    "execution_millis": 23015,
    "deepnote_cell_type": "code"
   },
   "source": "%cd /datasets/drive/python-library\n!pip install .",
   "execution_count": 3,
   "outputs": [
    {
     "name": "stdout",
     "text": "/datasets/drive/.shared/python-library\nProcessing /datasets/drive/.shared/python-library\nRequirement already satisfied: pymysql>=1.0.2 in /shared-libs/python3.7/py-core/lib/python3.7/site-packages (from gallifrey==0.3.0) (1.0.2)\nRequirement already satisfied: pandas>=1.1.1 in /shared-libs/python3.7/py/lib/python3.7/site-packages (from gallifrey==0.3.0) (1.3.5)\nRequirement already satisfied: psycopg2_binary>=2.8.6 in /shared-libs/python3.7/py/lib/python3.7/site-packages (from gallifrey==0.3.0) (2.9.3)\nCollecting paramiko>=2.7.2\n  Downloading paramiko-2.9.2-py2.py3-none-any.whl (210 kB)\n\u001b[K     |████████████████████████████████| 210 kB 18.7 MB/s \n\u001b[?25hCollecting sshtunnel==0.4.0\n  Downloading sshtunnel-0.4.0-py2.py3-none-any.whl (24 kB)\nCollecting python-dotenv==0.15.0\n  Downloading python_dotenv-0.15.0-py2.py3-none-any.whl (18 kB)\nRequirement already satisfied: numpy>=1.17.3; platform_machine != \"aarch64\" and platform_machine != \"arm64\" and python_version < \"3.10\" in /shared-libs/python3.7/py-core/lib/python3.7/site-packages (from pandas>=1.1.1->gallifrey==0.3.0) (1.21.5)\nRequirement already satisfied: pytz>=2017.3 in /shared-libs/python3.7/py-core/lib/python3.7/site-packages (from pandas>=1.1.1->gallifrey==0.3.0) (2021.3)\nRequirement already satisfied: python-dateutil>=2.7.3 in /shared-libs/python3.7/py-core/lib/python3.7/site-packages (from pandas>=1.1.1->gallifrey==0.3.0) (2.8.2)\nRequirement already satisfied: cryptography>=2.5 in /shared-libs/python3.7/py-core/lib/python3.7/site-packages (from paramiko>=2.7.2->gallifrey==0.3.0) (36.0.1)\nCollecting pynacl>=1.0.1\n  Downloading PyNaCl-1.5.0-cp36-abi3-manylinux_2_17_x86_64.manylinux2014_x86_64.manylinux_2_24_x86_64.whl (856 kB)\n\u001b[K     |████████████████████████████████| 856 kB 36.7 MB/s \n\u001b[?25hCollecting bcrypt>=3.1.3\n  Downloading bcrypt-3.2.0-cp36-abi3-manylinux_2_17_x86_64.manylinux2014_x86_64.manylinux_2_24_x86_64.whl (61 kB)\n\u001b[K     |████████████████████████████████| 61 kB 819 kB/s \n\u001b[?25hRequirement already satisfied: six>=1.5 in /shared-libs/python3.7/py-core/lib/python3.7/site-packages (from python-dateutil>=2.7.3->pandas>=1.1.1->gallifrey==0.3.0) (1.16.0)\nRequirement already satisfied: cffi>=1.12 in /shared-libs/python3.7/py-core/lib/python3.7/site-packages (from cryptography>=2.5->paramiko>=2.7.2->gallifrey==0.3.0) (1.15.0)\nRequirement already satisfied: pycparser in /shared-libs/python3.7/py-core/lib/python3.7/site-packages (from cffi>=1.12->cryptography>=2.5->paramiko>=2.7.2->gallifrey==0.3.0) (2.21)\nBuilding wheels for collected packages: gallifrey\n  Building wheel for gallifrey (setup.py) ... \u001b[?25ldone\n\u001b[?25h  Created wheel for gallifrey: filename=gallifrey-0.3.0-py3-none-any.whl size=9864 sha256=49d767a9091315fd02ae6342b341b4a023d9cf82828df2957b7c74559063b976\n  Stored in directory: /root/.cache/pip/wheels/de/b7/e0/b51405f454f78fc430c6037b1542f1ad52fd08b2e643ab25fa\nSuccessfully built gallifrey\nInstalling collected packages: pynacl, bcrypt, paramiko, sshtunnel, python-dotenv, gallifrey\n  Attempting uninstall: python-dotenv\n    Found existing installation: python-dotenv 0.19.2\n    Uninstalling python-dotenv-0.19.2:\n      Successfully uninstalled python-dotenv-0.19.2\nSuccessfully installed bcrypt-3.2.0 gallifrey-0.3.0 paramiko-2.9.2 pynacl-1.5.0 python-dotenv-0.15.0 sshtunnel-0.4.0\n\u001b[33mWARNING: You are using pip version 20.1.1; however, version 22.0.4 is available.\nYou should consider upgrading via the '/root/venv/bin/python -m pip install --upgrade pip' command.\u001b[0m\n",
     "output_type": "stream"
    }
   ]
  },
  {
   "cell_type": "code",
   "metadata": {
    "cell_id": "46f562da-bd9d-4803-976b-07181f112769",
    "tags": [],
    "deepnote_to_be_reexecuted": false,
    "source_hash": "525c8d01",
    "execution_start": 1647052417572,
    "execution_millis": 45,
    "deepnote_cell_type": "code"
   },
   "source": "import os\n\nos.environ[\"DISCOVERY_HOSTNAME\"]\nos.environ[\"DISCOVERY_USERNAME\"]\nos.environ[\"DISCOVERY_PASSWORD\"]\nos.environ[\"DISCOVERY_DATABASE\"]\nos.environ[\"DISCOVERY_PORT\"]\nos.environ[\"DISCOVERY_SSH_HOST\"]\nos.environ[\"JEDI_HOSTNAME\"]\nos.environ[\"JEDI_USERNAME\"]\nos.environ[\"JEDI_PASSWORD\"]\nos.environ[\"JEDI_DATABASE\"]\nos.environ[\"JEDI_PORT\"]\nos.environ[\"JEDI_SSH_HOST\"]\nos.environ[\"KRATOS_HOSTNAME\"]\nos.environ[\"KRATOS_USERNAME\"]\nos.environ[\"KRATOS_PASSWORD\"]\nos.environ[\"KRATOS_DATABASE\"]\nos.environ[\"KRATOS_PORT\"]\nos.environ[\"KRATOS_SSH_HOST\"]\nos.environ[\"PATHFINDER_HOSTNAME\"]\nos.environ[\"PATHFINDER_USERNAME\"]\nos.environ[\"PATHFINDER_PASSWORD\"]\nos.environ[\"PATHFINDER_DATABASE\"]\nos.environ[\"PATHFINDER_PORT\"]\nos.environ[\"PATHFINDER_SSH_HOST\"]\nos.environ[\"SNOWPLOW_HOSTNAME\"]\nos.environ[\"SNOWPLOW_USERNAME\"]\nos.environ[\"SNOWPLOW_PASSWORD\"]\nos.environ[\"SNOWPLOW_DATABASE\"]\nos.environ[\"SNOWPLOW_PORT\"]\nos.environ[\"SOLARR_HOSTNAME\"]\nos.environ[\"SOLARR_USERNAME\"]\nos.environ[\"SOLARR_PASSWORD\"]\nos.environ[\"SOLARR_DATABASE\"]\nos.environ[\"SOLARR_PORT\"]\nos.environ[\"SOLARR_SSH_HOST\"]\nos.environ[\"STARRGATE_HOSTNAME\"]\nos.environ[\"STARRGATE_USERNAME\"]\nos.environ[\"STARRGATE_PASSWORD\"]\nos.environ[\"STARRGATE_DATABASE\"]\nos.environ[\"STARRGATE_PORT\"]\nos.environ[\"STARRGATE_SSH_HOST\"]\nos.environ[\"WAREHOUSE_HOSTNAME\"]\nos.environ[\"WAREHOUSE_USERNAME\"]\nos.environ[\"WAREHOUSE_PASSWORD\"]\nos.environ[\"WAREHOUSE_DATABASE\"]\nos.environ[\"WAREHOUSE_PORT\"]\nos.environ[\"BLACK_PLATINUM_KEY_PATH\"]\nos.environ[\"STARRGATE_KEY_PATH\"]\nos.environ[\"SSH_USER\"]\nos.environ[\"SSH_PORT\"]",
   "execution_count": 4,
   "outputs": [
    {
     "output_type": "execute_result",
     "execution_count": 4,
     "data": {
      "text/plain": "'22'"
     },
     "metadata": {}
    }
   ]
  },
  {
   "cell_type": "markdown",
   "source": "<a style='text-decoration:none;line-height:16px;display:flex;color:#5B5B62;padding:10px;justify-content:end;' href='https://deepnote.com?utm_source=created-in-deepnote-cell&projectId=5821676f-5400-4fde-a896-01206472ffab' target=\"_blank\">\n<img alt='Created in deepnote.com' style='display:inline;max-height:16px;margin:0px;margin-right:7.5px;' src='data:image/svg+xml;base64,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' > </img>\nCreated in <span style='font-weight:600;margin-left:4px;'>Deepnote</span></a>",
   "metadata": {
    "tags": [],
    "created_in_deepnote_cell": true,
    "deepnote_cell_type": "markdown"
   }
  }
 ],
 "nbformat": 4,
 "nbformat_minor": 2,
 "metadata": {
  "orig_nbformat": 2,
  "deepnote": {
   "is_reactive": false
  },
  "deepnote_notebook_id": "4a21fa71-ba1f-45be-a351-b5a30d2f7a15",
  "deepnote_execution_queue": []
 }
}