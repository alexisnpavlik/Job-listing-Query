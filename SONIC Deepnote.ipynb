{
 "cells": [
  {
   "cell_type": "markdown",
   "source": "## Set Up",
   "metadata": {
    "id": "HCaYxKgOEjk-",
    "cell_id": "c49cd266-c657-4916-b5a9-1e63ca0d1c0c",
    "deepnote_cell_type": "markdown",
    "deepnote_cell_height": 70.640625
   }
  },
  {
   "cell_type": "code",
   "metadata": {
    "id": "9bkXbPETw0vm",
    "colab": {
     "base_uri": "https://localhost:8080/"
    },
    "outputId": "e73546c9-0291-4fcc-cef9-f7cdd2ff6ea4",
    "cell_id": "00001-849410c7-4297-423c-ace2-f2d9bb4e74c2",
    "deepnote_to_be_reexecuted": false,
    "source_hash": "6a98d3cf",
    "execution_start": 1647050637695,
    "execution_millis": 28274,
    "deepnote_cell_type": "code",
    "deepnote_cell_height": 1331
   },
   "source": "# Prepare the environment\n\n\n%cd /datasets/drive/python-library\n!pip install .\n!sudo apt-get install python-pymysql\n!pip install colab-env\n!pip install Hashids\n%cd /datasets/drive\nfrom datetime import datetime\nimport pytz\nimport nltk\nnltk.download('stopwords')\nimport gallifrey\nimport pandas as pd\nimport numpy as np\nimport time\nfrom hashids import Hashids\n\n#Set up for Hash calculation\nhasher = Hashids(\"jS5qAlR0kHbAeqeuVowPBnyotKuTvvlGzIzkEtz79XQGB7BJHb\", \n                 8, \n                 \"abcdefghijklmnopqrstuvwxyzABCDEFGHIJKLMNOPQRSTUVWXYZ1234567890\")\n\n# Gspread\n\nimport gspread\ngc = gspread.service_account(filename='/work/credentials.json')\n# create, and save df\nfrom gspread_dataframe import set_with_dataframe\n\n# Import environment varibles\nimport os\n\ngallifrey.discovery.ssh_pkey = os.getenv('BLACK_PLATINUM_KEY_PATH')\ngallifrey.solar.ssh_pkey = os.getenv('BLACK_PLATINUM_KEY_PATH')",
   "execution_count": null,
   "outputs": [
    {
     "name": "stdout",
     "text": "/datasets/drive/.shared/python-library\nProcessing /datasets/drive/.shared/python-library\nRequirement already satisfied: pymysql>=1.0.2 in /shared-libs/python3.7/py-core/lib/python3.7/site-packages (from gallifrey==0.3.0) (1.0.2)\nRequirement already satisfied: pandas>=1.1.1 in /shared-libs/python3.7/py/lib/python3.7/site-packages (from gallifrey==0.3.0) (1.3.5)\nRequirement already satisfied: psycopg2_binary>=2.8.6 in /shared-libs/python3.7/py/lib/python3.7/site-packages (from gallifrey==0.3.0) (2.9.3)\nRequirement already satisfied: paramiko>=2.7.2 in /root/venv/lib/python3.7/site-packages (from gallifrey==0.3.0) (2.9.2)\nRequirement already satisfied: sshtunnel==0.4.0 in /root/venv/lib/python3.7/site-packages (from gallifrey==0.3.0) (0.4.0)\nRequirement already satisfied: python-dotenv==0.15.0 in /root/venv/lib/python3.7/site-packages (from gallifrey==0.3.0) (0.15.0)\nRequirement already satisfied: pytz>=2017.3 in /shared-libs/python3.7/py-core/lib/python3.7/site-packages (from pandas>=1.1.1->gallifrey==0.3.0) (2021.3)\nRequirement already satisfied: python-dateutil>=2.7.3 in /shared-libs/python3.7/py-core/lib/python3.7/site-packages (from pandas>=1.1.1->gallifrey==0.3.0) (2.8.2)\nRequirement already satisfied: numpy>=1.17.3; platform_machine != \"aarch64\" and platform_machine != \"arm64\" and python_version < \"3.10\" in /shared-libs/python3.7/py-core/lib/python3.7/site-packages (from pandas>=1.1.1->gallifrey==0.3.0) (1.21.5)\nRequirement already satisfied: bcrypt>=3.1.3 in /root/venv/lib/python3.7/site-packages (from paramiko>=2.7.2->gallifrey==0.3.0) (3.2.0)\nRequirement already satisfied: pynacl>=1.0.1 in /root/venv/lib/python3.7/site-packages (from paramiko>=2.7.2->gallifrey==0.3.0) (1.5.0)\nRequirement already satisfied: cryptography>=2.5 in /shared-libs/python3.7/py-core/lib/python3.7/site-packages (from paramiko>=2.7.2->gallifrey==0.3.0) (36.0.1)\nRequirement already satisfied: six>=1.5 in /shared-libs/python3.7/py-core/lib/python3.7/site-packages (from python-dateutil>=2.7.3->pandas>=1.1.1->gallifrey==0.3.0) (1.16.0)\nRequirement already satisfied: cffi>=1.1 in /shared-libs/python3.7/py-core/lib/python3.7/site-packages (from bcrypt>=3.1.3->paramiko>=2.7.2->gallifrey==0.3.0) (1.15.0)\nRequirement already satisfied: pycparser in /shared-libs/python3.7/py-core/lib/python3.7/site-packages (from cffi>=1.1->bcrypt>=3.1.3->paramiko>=2.7.2->gallifrey==0.3.0) (2.21)\nBuilding wheels for collected packages: gallifrey\n  Building wheel for gallifrey (setup.py) ... \u001b[?25ldone\n\u001b[?25h  Created wheel for gallifrey: filename=gallifrey-0.3.0-py3-none-any.whl size=9864 sha256=161068785dd8a2190f26e6db92bf8859d68e973af5b4e21944b6a4f292709ded\n  Stored in directory: /root/.cache/pip/wheels/de/b7/e0/b51405f454f78fc430c6037b1542f1ad52fd08b2e643ab25fa\nSuccessfully built gallifrey\nInstalling collected packages: gallifrey\n  Attempting uninstall: gallifrey\n    Found existing installation: gallifrey 0.3.0\n    Uninstalling gallifrey-0.3.0:\n      Successfully uninstalled gallifrey-0.3.0\nSuccessfully installed gallifrey-0.3.0\n\u001b[33mWARNING: You are using pip version 20.1.1; however, version 22.0.4 is available.\nYou should consider upgrading via the '/root/venv/bin/python -m pip install --upgrade pip' command.\u001b[0m\n\n\n\nE: Unable to locate package python-pymysql\nRequirement already satisfied: colab-env in /root/venv/lib/python3.7/site-packages (0.2.0)\nRequirement already satisfied: python-dotenv<1.0,>=0.10.0 in /root/venv/lib/python3.7/site-packages (from colab-env) (0.15.0)\n\u001b[33mWARNING: You are using pip version 20.1.1; however, version 22.0.4 is available.\nYou should consider upgrading via the '/root/venv/bin/python -m pip install --upgrade pip' command.\u001b[0m\nRequirement already satisfied: Hashids in /root/venv/lib/python3.7/site-packages (1.0.2)\nRequirement already satisfied: future>=0.14.3 in /shared-libs/python3.7/py-core/lib/python3.7/site-packages (from Hashids) (0.18.2)\n\u001b[33mWARNING: You are using pip version 20.1.1; however, version 22.0.4 is available.\nYou should consider upgrading via the '/root/venv/bin/python -m pip install --upgrade pip' command.\u001b[0m\n/datasets/drive\n[nltk_data] Downloading package stopwords to /root/nltk_data...\n[nltk_data]   Unzipping corpora/stopwords.zip.\n[nltk_data] Downloading package stopwords to /root/nltk_data...\n[nltk_data]   Package stopwords is already up-to-date!\n[nltk_data] Downloading package stopwords to /root/nltk_data...\n[nltk_data]   Package stopwords is already up-to-date!\n",
     "output_type": "stream"
    }
   ]
  },
  {
   "cell_type": "markdown",
   "source": "## Auto Update",
   "metadata": {
    "id": "qvalMu972hfK",
    "cell_id": "00002-d686118f-9e17-435f-9a2c-6c8a95836a10",
    "deepnote_cell_type": "markdown",
    "deepnote_cell_height": 70.640625
   }
  },
  {
   "cell_type": "markdown",
   "source": "#### Query\n",
   "metadata": {
    "id": "PHYvoY4haUts",
    "cell_id": "00003-8e3f650c-2a82-4f00-ba50-200d69ead221",
    "deepnote_cell_type": "markdown",
    "deepnote_cell_height": 54.640625
   }
  },
  {
   "cell_type": "code",
   "metadata": {
    "cell_id": "78124ebf-1609-456a-8a77-d8dd78c368ea",
    "tags": [],
    "deepnote_to_be_reexecuted": false,
    "source_hash": "f329cbd2",
    "execution_start": 1647050665969,
    "execution_millis": 210919,
    "deepnote_cell_type": "code",
    "deepnote_cell_height": 270
   },
   "source": "!rm -r Job-listing-Query\n!git clone --branch Job-listing-3.0  https://github.com/alexisnpavlik/Job-listing-Query.git",
   "execution_count": null,
   "outputs": [
    {
     "name": "stdout",
     "text": "Cloning into 'Job-listing-Query'...\nremote: Enumerating objects: 449, done.\u001b[K\nremote: Counting objects: 100% (449/449), done.\u001b[K\nremote: Compressing objects: 100% (310/310), done.\u001b[K\nremote: Total 449 (delta 265), reused 313 (delta 137), pack-reused 0\u001b[K\nReceiving objects: 100% (449/449), 72.27 KiB | 113.00 KiB/s, done.\nResolving deltas: 100% (265/265), done.\nChecking out files: 100% (11/11), done.\n",
     "output_type": "stream"
    }
   ]
  },
  {
   "cell_type": "code",
   "metadata": {
    "id": "bV_rwuw7A1wn",
    "colab": {
     "base_uri": "https://localhost:8080/"
    },
    "outputId": "2d98a19b-2ca3-4f2e-e3b3-3e1d617019ec",
    "cell_id": "00004-c1fd878f-2d1e-4ddf-907d-12504c933bd5",
    "deepnote_to_be_reexecuted": false,
    "source_hash": "7143d561",
    "execution_start": 1647050876922,
    "execution_millis": 56,
    "output_cleared": false,
    "deepnote_cell_type": "code",
    "deepnote_cell_height": 243
   },
   "source": "main_query=open(\"\"\"Job-listing-Query/main_query.sql\"\"\", 'r').read()\norganizations_query=open(\"\"\"Job-listing-Query/organizations_query.sql\"\"\", 'r').read()\nnotifications_query=open(\"\"\"Job-listing-Query/notifications.sql\"\"\", 'r').read()\nrequest_manual_invite_query=open(\"\"\"Job-listing-Query/request_manual_invite.sql\"\"\", 'r').read()\ninvited_from_suggested_query=open(\"\"\"Job-listing-Query/invited_from_suggested.sql\"\"\", 'r').read()\ntotal_suggested_query=open(\"\"\"Job-listing-Query/total_suggested.sql\"\"\", 'r').read()\ncommited_query=open(\"\"\"Job-listing-Query/commited.sql\"\"\", 'r').read()\nresponse_times_query=open(\"\"\"Job-listing-Query/response_times.sql\"\"\", 'r').read()\naplications_query=open(\"\"\"Job-listing-Query/aplications.sql\"\"\", 'r').read()\nrequest_automated_sourcing_query=open(\"\"\"Job-listing-Query/request_automated_sourcing.sql\"\"\", 'r').read()",
   "execution_count": null,
   "outputs": []
  },
  {
   "cell_type": "code",
   "metadata": {
    "id": "jNWAeS_dnJXH",
    "colab": {
     "base_uri": "https://localhost:8080/"
    },
    "outputId": "b091438f-5555-4050-a1fe-2d363490b4a0",
    "cell_id": "00005-112fcaf0-6269-4184-9ad1-fec075fded73",
    "deepnote_to_be_reexecuted": false,
    "source_hash": "234e05b7",
    "execution_start": 1647050876984,
    "execution_millis": 190205,
    "output_cleared": false,
    "deepnote_cell_type": "code",
    "deepnote_cell_height": 364
   },
   "source": "start_time=time.time()\nmain = pd.DataFrame(gallifrey.discovery.execute_query(main_query))\norganizations = pd.DataFrame(gallifrey.solar.execute_query(organizations_query))\nnotifications = pd.DataFrame(gallifrey.snowplow.execute_query(notifications_query))\nrequest_manual_invite = pd.DataFrame(gallifrey.solar.execute_query(request_manual_invite_query))\ninvited_from_suggested = pd.DataFrame(gallifrey.discovery.execute_query(invited_from_suggested_query))\ntotal_suggested = pd.DataFrame(gallifrey.discovery.execute_query(total_suggested_query))\ncommited = pd.DataFrame(gallifrey.discovery.execute_query(commited_query))\nresponse_times = pd.DataFrame(gallifrey.discovery.execute_query(response_times_query))\naplications = pd.DataFrame(gallifrey.discovery.execute_query(aplications_query))\nrequest_automated_sourcing = pd.DataFrame(gallifrey.solar.execute_query(request_automated_sourcing_query))\n\nhubspot= pd.read_csv('/datasets/drive/Datasets/all_tickets_hs.csv')\n\nprint('Tiempo de ejecución:',time.time()-start_time,'s')",
   "execution_count": null,
   "outputs": [
    {
     "name": "stdout",
     "text": "Tiempo de ejecución: 190.0879111289978 s\n",
     "output_type": "stream"
    }
   ]
  },
  {
   "cell_type": "markdown",
   "source": "### Copy",
   "metadata": {
    "cell_id": "0472c3db-13b7-4c1b-b5c6-9c6b9f33ca45",
    "tags": [],
    "is_collapsed": false,
    "deepnote_cell_type": "text-cell-h3",
    "deepnote_cell_height": 62.640625
   }
  },
  {
   "cell_type": "code",
   "metadata": {
    "colab": {
     "base_uri": "https://localhost:8080/"
    },
    "id": "YMPfnRUY--TJ",
    "outputId": "7c68361e-0731-4731-bb66-67b7a724ef95",
    "cell_id": "00006-62e7a5dd-f850-48ba-9b10-7e02830d6d28",
    "deepnote_to_be_reexecuted": false,
    "source_hash": "e29b0f23",
    "execution_start": 1647051067124,
    "execution_millis": 17,
    "deepnote_cell_type": "code",
    "deepnote_cell_height": 297
   },
   "source": "main_df = main.copy(deep=True)\norganizations_df = organizations.copy(deep=True)\nnotifications_df = notifications.copy(deep=True)\nrequest_manual_invite_df = request_manual_invite.copy(deep=True)\ninvited_from_suggested_df = invited_from_suggested.copy(deep=True)\ntotal_suggested_df = total_suggested.copy(deep=True)\ncommited_df = commited.copy(deep=True)\nresponse_times_df = response_times.copy(deep=True)\naplications_df = aplications.copy(deep=True)\nrequest_automated_sourcing_df = request_automated_sourcing.copy(deep=True)\n\nhubspot_df = hubspot.copy(deep=True)\n",
   "execution_count": null,
   "outputs": []
  },
  {
   "cell_type": "code",
   "metadata": {
    "cell_id": "948be362-eed3-4675-8da7-a4b0ad4ce934",
    "tags": [],
    "deepnote_to_be_reexecuted": false,
    "source_hash": "cde03b43",
    "execution_start": 1647051067148,
    "execution_millis": 20,
    "deepnote_cell_type": "code",
    "deepnote_cell_height": 99
   },
   "source": "index = request_automated_sourcing_df.index[request_automated_sourcing_df['AlfaID'].str.startswith('https://torre.co/postings/')].tolist()\nrequest_automated_sourcing_df.drop(index, axis = 0, inplace=True)",
   "execution_count": null,
   "outputs": []
  },
  {
   "cell_type": "code",
   "metadata": {
    "id": "7zrrEYlQFAb3",
    "cell_id": "00008-8d1fcf82-fa5c-4606-98fb-55a267d22e47",
    "deepnote_to_be_reexecuted": false,
    "source_hash": "ecdb3e08",
    "execution_start": 1647051067184,
    "execution_millis": 3884,
    "deepnote_cell_type": "code",
    "deepnote_cell_height": 3321
   },
   "source": "# Alfa ID Generator\ndef alfa_id(id):\n  return hasher.encode(id)\n\n# URL Generator\ndef url_generator(id):\n  return 'https://torre.co/postings/'+hasher.encode(id)\n\n# Manager URL Generator\ndef manager_generator(id):\n  return 'https://torre.co/postings/'+hasher.encode(id)+'/members-list?sharingToken='\n\n# Transforms columns\nmain_df.insert(1,\"Alfa ID\", main_df['ID'].apply(alfa_id),True)\nmain_df.insert( 2,\"URL\", main_df['ID'].apply(url_generator),True)\n\nmain_df.insert( 6,\"Manager link\", 'https://torre.co/postings/'+ main_df['Alfa ID'] +'/members-list?sharingToken='+ main_df['Sharing token'] ,True)\n\n# Last update Generator\nmy_city_timezone = pytz.timezone('America/Bogota')\nmy_city_time = datetime.now(my_city_timezone)\nupdate_hour = my_city_time.strftime(\"%H:%M - %d/%m (GMT-5)\")\nmain_df.insert( 2,\"Last Update\", update_hour,True)\n\n# URL Hubspot Generator\ndef hubspot_generator(id):\n  return 'https://app.hubspot.com/contacts/5943984/ticket/'+str(id)\n\nhubspot_df.insert( 2,\"Hubspot URL\", hubspot_df['HS_ID'].apply(hubspot_generator),True)\n\n# Hubspot name Generator\ndef name_generator(id):\n    if id == 82061645:\n        return 'Natalia Arrieta Aycardi'\n    elif id == 101607757:\n        return 'Juan Pablo Santa'\n    elif id == 64896811:\n        return 'Santiago Reyes'\n    elif id == 42228953:\n        return 'Daniela Botero'\n    elif id == 67362916:\n        return 'Jhon Marin'\n    elif id == 110277165:\n        return 'Lubianca Vanegas'\n    elif id == 141011802: \n        return 'Juan Manuel Salvadé'\n    elif id == 72021367:\n        return 'Melissa Erasso'\n    elif id == 83083950:\n        return 'raynier@torre.co'\n    elif id == 39113169:\n        return 'Maria Fernanda Mosquera'\n    elif id == 83549794:\n        return 'Mauricio Zabala'\n    elif id == 110277130:\n        return 'augustin@torre.co'\n    elif id == 137166627:\n        return 'Neider Fayad'\n    elif id == 120967450:\n        return 'Natalia Sánchez Rodríguez'\n    elif id == 119544834:\n        return 'Maria Isabel Silva Baquero'\n    elif id == 118296335:\n        return 'Daniela Bonilla'\n    elif id == 128193536:\n        return 'Tatiana Palomino'\n    elif id == 99570339:\n        return 'Sebastian Ruiz'\n    elif id == 140100897:\n        return 'Santiago Higuera'\n    elif id == 127205203:\n        return 'Wilson Peña'\n    elif id == 138004282:\n        return 'Julio César Espinosa Herrera'\n    elif id == 140327503:\n        return 'María Gabriela Donoso Delgado'\n    elif id == 123190151:\n        return 'Renzo Martínez'\n    elif id == 87427407:\n        return 'Alexandra Rodriguez'\n    elif id == 134119974:\n        return 'Angelo Vásquez'\n    elif id == 128914705:\n        return 'Laura Mojica'\n    elif id == 108959025:\n        return 'Carlos Lopera'\n    elif id == 121379976:\n        return 'Melissa Ricardo Hoyos'\n    elif id == 119634958:\n        return 'TATIANA VELEZ'\n    elif id == 109029174:\n        return 'M. Catalina Morales'\n    elif id == 90384244:\n        return 'Paula Marulanda'\n    elif id == 108959023:\n        return 'Ricardo Adolfo Saavedra Lozano'\n    elif id == 97789475:\n        return 'Federico Romero'\n    elif id == 128914703:\n        return 'Jose A. Herrera'\n    elif id == 109029171:\n        return 'Jose Berrio'\n    elif id == 59231664:\n        return 'Daniela Gaviria'\n    elif id == 114478130:\n       return 'Natalia Torres Casto' \n    elif id == 88416842:\n        return 'Vanessa Castro'\n    elif id == 84084140:\n        return 'Andres Meza'\n    elif id == 91698865:\n        return 'Maria Alejandra Gómez'\n    elif id == 93511743:\n        return 'Darío Estupiñán'\n    elif id == 84229495:\n        return 'Alexis Najarro'\n    elif id == 71114922:\n        return 'María Juliana Pardo'\n    elif id == 63666042: \n        return 'Nelly cacho'\n    elif id == 59232375:\n        return 'Natalia Rodriguez'\n    elif id == 97135664:\n        return 'Andrés Mauricio Jiménez García'\n    elif id == 59232426:\n            return 'Hermann Cardona'\n    elif id == 134153486:\n            return 'Sebastian Nieto'\n    elif id == 101649043:\n            return 'Alessio Vargas'\n    elif id == 42833375:\n            return 'Diana Montoya'\n    elif id == 105037059:\n            return 'Roy Villamizar'\n    elif id == 42833375:\n            return 'Renzo Martínez'\n    elif id == 84924686:\n            return 'Paula Corredor'\n    elif id == 63666041:\n            return 'Valentina Santos'\n    elif id == 98133556:\n            return 'Paco Ruiz'\n    elif id == 39847960:\n            return 'Diana Aparicio'\n    elif id == 77712296:\n            return 'Paula Katherine Lozano Molina'\n    elif id == 54625855:\n            return 'Susana Ayala'\n    elif id == 138392444:\n            return 'Angelo Vásquez'\n    elif id == 97789474:\n            return 'Jessica Pinzon'\n    elif id == 70032248:\n            return 'Eduardo Lombana'\n    elif id == 90657168:\n            return 'Ignacio Minenna'\n    elif id == 149866887:\n            return 'Zandokan Villarreal'\n    elif id == 108502892:\n            return 'Catalina González Salcedo'\n    elif id == 62009144:\n            return 'Carolina Gomez Villafane'\n    elif id == 89350190:\n            return 'Danna Melissa Munevar Hernandez'\n    elif id == 113619525:\n            return 'Laura Sánchez'\n    elif id == 138861200:\n            return 'Carlos Torres'\n    elif id == 91737210:\n            return 'Jose A. Herrera'\n    elif id == 131285778:\n            return 'Manuela Zuluaga'\n    elif id == 107943755:\n            return 'David Giraldo Valencia'\n    \n\n\nhubspot_df.insert( 2,\"Ticket Owner\", hubspot_df['Ticket Owner ID'].apply(name_generator),True)\n\nmain_df.Timezones = main_df.Timezones.replace({\"\"\"GMT-12:00\nGMT+14:00\"\"\":'Remote Anywhere'})",
   "execution_count": null,
   "outputs": []
  },
  {
   "cell_type": "code",
   "metadata": {
    "cell_id": "036008f3-a57a-4df4-b545-013403d2029e",
    "tags": [],
    "deepnote_to_be_reexecuted": false,
    "source_hash": "4e3e75df",
    "execution_start": 1647051071075,
    "execution_millis": 66,
    "deepnote_cell_type": "code",
    "deepnote_cell_height": 81
   },
   "source": "response_times_df = response_times_df.pivot(index='ID', columns='utm_medium', values='RT')",
   "execution_count": null,
   "outputs": []
  },
  {
   "cell_type": "code",
   "metadata": {
    "id": "tXYjA1vdiE8J",
    "cell_id": "00010-06310ea9-7f26-44a1-bc57-c7cadc8f13d5",
    "deepnote_to_be_reexecuted": false,
    "source_hash": "1aabea7d",
    "execution_start": 1647051071147,
    "execution_millis": 30,
    "output_cleared": true,
    "deepnote_cell_type": "code",
    "deepnote_cell_height": 135
   },
   "source": "notifications_df = notifications_df.rename(columns={'alfaid':'Alfa ID','realistic':'Sent Matches','people':'Sent SigPeop','organization': 'Sent SigOrg'})\nrequest_manual_invite_df = request_manual_invite_df.rename(columns={'AlfaID':'Alfa ID','sent':'Sent manual invite','pending':'Pending manual invite','canceled':'Canceled manual invite'})\nrequest_automated_sourcing_df = request_automated_sourcing_df.rename(columns={'AlfaID':'Alfa ID'})\nresponse_times_df = response_times_df.rename(columns={'ja_mtc':'RT Job alerts from matches','ja_rlvsgl_prs':'RT Job alerts from relevant signals people','ja_allsgl_prs':'RT Job alerts from all signals people','ja_rlvsgl_org':'RT Job alerts from relevant signals organization','ja_allsgl_org':'RT Job alerts from all signals organization','rc_cb_rcdt':'RT Recruiter chatbot','rc_ccg':'RT Recruiter chatbot to CCGs','rc_syn':'RT Recruiter chatbot syndication','rc_src':'RT Recruiter chatbot sourcing','am_sug':'RT Auto triggered messages to suggested candidates','srh_jobs':'RT Job search','sml_jobs':'RT Similar jobs','am_inv':'RT Auto triggered messages to invited external candidates','google_jobs':'RT Google for jobs','fb_jobs':'RT Facebook jobs','ref_ts':'RT Referrals from the TS','shr_ts':'RT Talent seekers sharing their own post','ro_sug':'RT Personal reach out to manually invited','pr_sml_jobs':'RT Personal reach out to candidates of similar jobs','rc_trrx_inv':'RT Manual invite by Torrex of registered candidates (internal sourcing)','syn':'RT Syndication','src':'RT Sourcing','ref_ptn':'RT Referrals from partners','ref_cdt':'RT Referrals from candidates','ref_vst_imp':'RT Referrals from visitors that share a job outside Torre (implicitly)','syn_rqt':'RT Syndication as requested','trr_webinars':'RT Webinars Torre Access'})",
   "execution_count": null,
   "outputs": []
  },
  {
   "cell_type": "code",
   "metadata": {
    "id": "kGEAiQL1mOdx",
    "cell_id": "00011-4919dd05-a3bd-439b-ad8a-7bbb4d63745e",
    "deepnote_to_be_reexecuted": false,
    "source_hash": "c9659e0e",
    "execution_start": 1647051071183,
    "execution_millis": 606,
    "output_cleared": false,
    "deepnote_cell_type": "code",
    "deepnote_cell_height": 351
   },
   "source": "opportunities_df = pd.merge(left=main_df,right=organizations_df,how='left', on='Company_id')\nopportunities_df = pd.merge(left=opportunities_df,right=notifications_df, how='left', on='Alfa ID')\nopportunities_df = pd.merge(left=opportunities_df,right=request_manual_invite_df, how='left', on='Alfa ID')\nopportunities_df = pd.merge(left=opportunities_df,right=invited_from_suggested_df, how='left', on='ID')\nopportunities_df = pd.merge(left=opportunities_df,right=total_suggested_df, how='left', on='ID')\nopportunities_df = pd.merge(left=opportunities_df,right=commited_df, how='left', on='ID')\nopportunities_df = pd.merge(left=opportunities_df,right=aplications_df, how='left', on='ID')\nopportunities_df = pd.merge(left=opportunities_df,right=response_times_df, how='left', on='ID')\nopportunities_df = pd.merge(left=opportunities_df,right=request_automated_sourcing_df, how='left', on='Alfa ID')\nopportunities_df = pd.merge(left=opportunities_df,right=hubspot_df, how='left', on='ID')\n\n\nopportunities_df = opportunities_df.reindex(columns=['ID','Job title','Company','Alfa ID','Location','Timezones','Created date','Approved date','Commited date','Applicant Acquisition Coordinator','Type of job',\n                                             'Type of service','URL','Manager link','Hubspot URL','Ticket Owner ID','Ticket Owner','Sourcer','Syndicator','Number of Syndication post','Contacted from Manual Sourcing','Search Results','Waterfall Channels','Timestamp waterfall channels','Feedback superfilter','Feedback red opp','Feedback dry opp','Language of the post','Status','Reason','Last changes','Closing Date','Closed date','Outbound Efforts','Last Update',\n                                             'Completed applications','Completed applications yesterday','Completed applications in the last 14 days','Incomplete applications','Mutual matches','Real Active','Opportunity approved yesterday','Disqualified','Others','Hires','Hires yesterday',\n                                             'Sent Matches','Sent SigPeop','Sent SigOrg','Sent manual invite','Pending manual invite','Canceled manual invite','Invited from suggested','Suggested','Requests from automated sourcing' ,'RT Job alerts from matches','RT Job alerts from relevant signals people','RT Job alerts from all signals people','RT Job alerts from relevant signals organization','RT Job alerts from all signals organization','RT Recruiter chatbot','RT Recruiter chatbot to CCGs','RT Recruiter chatbot syndication','RT Recruiter chatbot sourcing','RT Auto triggered messages to suggested candidates','RT Job search','RT Similar jobs','RT Auto triggered messages to invited external candidates','RT Google for jobs','RT Facebook jobs','RT Referrals from the TS','RT Talent seekers sharing their own post','RT Personal reach out to manually invited','RT Personal reach out to candidates of similar jobs','RT Manual invite by Torrex of registered candidates (internal sourcing)','RT Syndication','RT Sourcing','RT Referrals from partners','RT Referrals from candidates','RT Referrals from visitors that share a job outside Torre (implicitly)','RT Syndication as requested','RT Webinars Torre Access', 'Job alerts from matches','Job alerts from relevant signals people','Job alerts from all signals people','Job alerts from relevant signals organization','Job alerts from all signals organization','Recruiter chatbot','Recruiter chatbot to CCGs','Recruiter chatbot syndication','Recruiter chatbot sourcing','Auto triggered messages to suggested candidates','Job search','Similar jobs','Auto triggered messages to invited external candidates','Google for jobs','Facebook jobs','Referrals from the TS','Talent seekers sharing their own post','Personal reach out to manually invited','Personal reach out to candidates of similar jobs','Manual invite by Torrex of registered candidates (internal sourcing)','Syndication','Sourcing','Referrals from partners','Referrals from candidates','Referrals from visitors that share a job outside Torre (implicitly)','Syndication as requested','Webinars Torre Access'])",
   "execution_count": null,
   "outputs": []
  },
  {
   "cell_type": "code",
   "metadata": {
    "id": "vI6pSuDzGlio",
    "cell_id": "00012-25109281-e660-42e2-a611-0671f0968823",
    "deepnote_to_be_reexecuted": false,
    "source_hash": "4b9fefbb",
    "execution_start": 1647051071796,
    "execution_millis": 19285,
    "deepnote_cell_type": "code",
    "deepnote_cell_height": 153
   },
   "source": "sheet = gc.open_by_url('https://docs.google.com/spreadsheets/d/10Exx43oNevJzeV6FTgKxJSe-oXMFoS300826lsJkYrE/edit#gid=0').sheet1\n\nsheet.clear()\n\nset_with_dataframe(sheet, opportunities_df) ",
   "execution_count": null,
   "outputs": []
  },
  {
   "cell_type": "markdown",
   "source": "<a style='text-decoration:none;line-height:16px;display:flex;color:#5B5B62;padding:10px;justify-content:end;' href='https://deepnote.com?utm_source=created-in-deepnote-cell&projectId=5821676f-5400-4fde-a896-01206472ffab' target=\"_blank\">\n<img alt='Created in deepnote.com' style='display:inline;max-height:16px;margin:0px;margin-right:7.5px;' src='data:image/svg+xml;base64,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' > </img>\nCreated in <span style='font-weight:600;margin-left:4px;'>Deepnote</span></a>",
   "metadata": {
    "tags": [],
    "created_in_deepnote_cell": true,
    "deepnote_cell_type": "markdown"
   }
  }
 ],
 "nbformat": 4,
 "nbformat_minor": 0,
 "metadata": {
  "colab": {
   "name": "#SONIC Experiment - Alexis.ipynb",
   "provenance": []
  },
  "kernelspec": {
   "name": "python3",
   "display_name": "Python 3"
  },
  "language_info": {
   "name": "python"
  },
  "deepnote_notebook_id": "e98a8c2e-f220-4bf4-a5be-02abb3365212",
  "deepnote": {
   "is_reactive": false
  },
  "deepnote_execution_queue": []
 }
}