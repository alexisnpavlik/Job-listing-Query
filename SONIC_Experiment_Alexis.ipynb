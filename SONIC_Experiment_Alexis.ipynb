{
  "nbformat": 4,
  "nbformat_minor": 0,
  "metadata": {
    "colab": {
      "name": "#SONIC Experiment - Alexis.ipynb",
      "provenance": [],
      "include_colab_link": true
    },
    "kernelspec": {
      "name": "python3",
      "display_name": "Python 3"
    },
    "language_info": {
      "name": "python"
    }
  },
  "cells": [
    {
      "cell_type": "markdown",
      "metadata": {
        "id": "view-in-github",
        "colab_type": "text"
      },
      "source": [
        "<a href=\"https://colab.research.google.com/github/alexisnpavlik/Job-listing-Query/blob/main/SONIC_Experiment_Alexis.ipynb\" target=\"_parent\"><img src=\"https://colab.research.google.com/assets/colab-badge.svg\" alt=\"Open In Colab\"/></a>"
      ]
    },
    {
      "cell_type": "markdown",
      "source": [
        "## Set Up"
      ],
      "metadata": {
        "id": "HCaYxKgOEjk-"
      }
    },
    {
      "cell_type": "code",
      "execution_count": null,
      "metadata": {
        "id": "9bkXbPETw0vm",
        "colab": {
          "base_uri": "https://localhost:8080/"
        },
        "outputId": "913197e4-bdd0-4778-cd8b-89dac907f0d2"
      },
      "outputs": [
        {
          "name": "stdout",
          "output_type": "stream",
          "text": [
            "Go to the following link in your browser:\n",
            "\n",
            "    https://accounts.google.com/o/oauth2/auth?response_type=code&client_id=32555940559.apps.googleusercontent.com&redirect_uri=urn%3Aietf%3Awg%3Aoauth%3A2.0%3Aoob&scope=openid+https%3A%2F%2Fwww.googleapis.com%2Fauth%2Fuserinfo.email+https%3A%2F%2Fwww.googleapis.com%2Fauth%2Fcloud-platform+https%3A%2F%2Fwww.googleapis.com%2Fauth%2Fappengine.admin+https%3A%2F%2Fwww.googleapis.com%2Fauth%2Fcompute+https%3A%2F%2Fwww.googleapis.com%2Fauth%2Faccounts.reauth+https%3A%2F%2Fwww.googleapis.com%2Fauth%2Fdrive&state=4BaqcoVL64jsw7IslvI90bhvMNpANB&prompt=consent&access_type=offline&code_challenge=U6veDQMAQOih98CFXM7jxzovBM-QXCFNruOh_ApLFY4&code_challenge_method=S256\n",
            "\n",
            "Enter verification code: 4/1AX4XfWjx654bz0BOx5cTZfY8gwZ7DWIUy_UwJZDSKAKzL0PRFVPLKMTCboY\n"
          ]
        }
      ],
      "source": [
        "# Prepare the environment\n",
        "%%capture\n",
        "from google.colab import drive, auth\n",
        "drive.mount('/content/drive')\n",
        "%cd /content/drive/MyDrive/python-library\n",
        "!pip install .\n",
        "!sudo apt-get install python-pymysql\n",
        "!pip install colab-env\n",
        "!pip install Hashids\n",
        "import colab_env\n",
        "%cd /content\n",
        "import nltk\n",
        "nltk.download('stopwords')\n",
        "import gallifrey\n",
        "import pandas as pd\n",
        "import numpy as np\n",
        "import time\n",
        "from hashids import Hashids\n",
        "\n",
        "#Set up for Hash calculation\n",
        "hasher = Hashids(\"jS5qAlR0kHbAeqeuVowPBnyotKuTvvlGzIzkEtz79XQGB7BJHb\", \n",
        "                 8, \n",
        "                 \"abcdefghijklmnopqrstuvwxyzABCDEFGHIJKLMNOPQRSTUVWXYZ1234567890\")\n",
        "\n",
        "# Authenticate\n",
        "auth.authenticate_user()\n",
        "import gspread\n",
        "from oauth2client.client import GoogleCredentials as GC\n",
        "gc = gspread.authorize(GC.get_application_default())\n",
        "\n",
        "# create, and save df\n",
        "from gspread_dataframe import set_with_dataframe"
      ]
    },
    {
      "cell_type": "markdown",
      "source": [
        "## Manual Update"
      ],
      "metadata": {
        "id": "qvalMu972hfK"
      }
    },
    {
      "cell_type": "markdown",
      "source": [
        "#### Query\n"
      ],
      "metadata": {
        "id": "PHYvoY4haUts"
      }
    },
    {
      "cell_type": "code",
      "source": [
        "!rm -r Job-listing-Query\n",
        "!git clone https://github.com/alexisnpavlik/Job-listing-Query.git\n",
        "\n",
        "main_query=open(\"\"\"/content/Job-listing-Query/main_query.sql\"\"\", 'r').read()\n",
        "organizations_query=open(\"\"\"/content/Job-listing-Query/organizations_query.sql\"\"\", 'r').read()\n",
        "notifications_query=open(\"\"\"/content/Job-listing-Query/notifications.sql\"\"\", 'r').read()\n",
        "request_manual_invite_query=open(\"\"\"/content/Job-listing-Query/request_manual_invite.sql\"\"\", 'r').read()"
      ],
      "metadata": {
        "id": "bV_rwuw7A1wn",
        "colab": {
          "base_uri": "https://localhost:8080/"
        },
        "outputId": "df209da1-2eb6-47c0-e6cc-25299b96e12f"
      },
      "execution_count": null,
      "outputs": [
        {
          "output_type": "stream",
          "name": "stdout",
          "text": [
            "Cloning into 'Job-listing-Query'...\n",
            "remote: Enumerating objects: 357, done.\u001b[K\n",
            "remote: Counting objects: 100% (357/357), done.\u001b[K\n",
            "remote: Compressing objects: 100% (246/246), done.\u001b[K\n",
            "remote: Total 357 (delta 217), reused 245 (delta 109), pack-reused 0\u001b[K\n",
            "Receiving objects: 100% (357/357), 55.30 KiB | 6.91 MiB/s, done.\n",
            "Resolving deltas: 100% (217/217), done.\n"
          ]
        }
      ]
    },
    {
      "cell_type": "code",
      "source": [
        "start_time=time.time()\n",
        "main = pd.DataFrame(gallifrey.discovery.execute_query(main_query))\n",
        "organizations_df = pd.DataFrame(gallifrey.solar.execute_query(organizations_query))\n",
        "notifications_df = pd.DataFrame(gallifrey.snowplow.execute_query(notifications_query))\n",
        "request_manual_invite_df = pd.DataFrame(gallifrey.solar.execute_query(request_manual_invite_query))\n",
        "print('Tiempo de ejecución:',time.time()-start_time,'s')"
      ],
      "metadata": {
        "id": "jNWAeS_dnJXH",
        "colab": {
          "base_uri": "https://localhost:8080/"
        },
        "outputId": "47c31a35-32c9-4249-c106-2dddd1f10356"
      },
      "execution_count": null,
      "outputs": [
        {
          "output_type": "stream",
          "name": "stdout",
          "text": [
            "Tiempo de ejecución: 48.099480867385864 s\n"
          ]
        }
      ]
    },
    {
      "cell_type": "code",
      "source": [
        "main_df = main.copy(deep=True)\n",
        "main_df"
      ],
      "metadata": {
        "colab": {
          "base_uri": "https://localhost:8080/"
        },
        "id": "YMPfnRUY--TJ",
        "outputId": "8f7869ef-ca0c-483d-99f3-2c2cd3b40f11"
      },
      "execution_count": null,
      "outputs": [
        {
          "output_type": "execute_result",
          "data": {
            "text/html": [
              "\n",
              "  <div id=\"df-dd77b8e6-ac89-4132-8387-1b2c604ce085\">\n",
              "    <div class=\"colab-df-container\">\n",
              "      <div>\n",
              "<style scoped>\n",
              "    .dataframe tbody tr th:only-of-type {\n",
              "        vertical-align: middle;\n",
              "    }\n",
              "\n",
              "    .dataframe tbody tr th {\n",
              "        vertical-align: top;\n",
              "    }\n",
              "\n",
              "    .dataframe thead th {\n",
              "        text-align: right;\n",
              "    }\n",
              "</style>\n",
              "<table border=\"1\" class=\"dataframe\">\n",
              "  <thead>\n",
              "    <tr style=\"text-align: right;\">\n",
              "      <th></th>\n",
              "      <th>ID</th>\n",
              "      <th>Job title</th>\n",
              "      <th>Company_id</th>\n",
              "      <th>location</th>\n",
              "      <th>Type of service</th>\n",
              "      <th>Type of job</th>\n",
              "      <th>Created date</th>\n",
              "      <th>Approved date</th>\n",
              "      <th>Applicant Acquisition Coordinator</th>\n",
              "      <th>Commited date</th>\n",
              "      <th>Status</th>\n",
              "      <th>Completed applications</th>\n",
              "      <th>Completed applications yesterday</th>\n",
              "      <th>Incomplete applications</th>\n",
              "      <th>Mutual matches</th>\n",
              "      <th>Others</th>\n",
              "      <th>Disqualified</th>\n",
              "      <th>Last changes</th>\n",
              "      <th>Closing Date</th>\n",
              "      <th>Language of the post</th>\n",
              "      <th>Hires</th>\n",
              "      <th>Hires yesterday</th>\n",
              "      <th>Opportunity approved yesterday</th>\n",
              "      <th>Sharing token</th>\n",
              "    </tr>\n",
              "  </thead>\n",
              "  <tbody>\n",
              "    <tr>\n",
              "      <th>0</th>\n",
              "      <td>1858934</td>\n",
              "      <td>Frontend Engineer</td>\n",
              "      <td>894147.0</td>\n",
              "      <td>Colombia</td>\n",
              "      <td>prime</td>\n",
              "      <td>full-time</td>\n",
              "      <td>2022-02-09</td>\n",
              "      <td>2022-02-09</td>\n",
              "      <td>None</td>\n",
              "      <td>2022-02-09</td>\n",
              "      <td>open</td>\n",
              "      <td>1.0</td>\n",
              "      <td>1.0</td>\n",
              "      <td>0.0</td>\n",
              "      <td>0.0</td>\n",
              "      <td>0.0</td>\n",
              "      <td>0.0</td>\n",
              "      <td>2022-02-09</td>\n",
              "      <td>2022-03-11</td>\n",
              "      <td>es</td>\n",
              "      <td>NaN</td>\n",
              "      <td>NaN</td>\n",
              "      <td>1.0</td>\n",
              "      <td>y9sXxk1VXfQt</td>\n",
              "    </tr>\n",
              "    <tr>\n",
              "      <th>1</th>\n",
              "      <td>1858933</td>\n",
              "      <td>Backend Engineer</td>\n",
              "      <td>894147.0</td>\n",
              "      <td>Colombia</td>\n",
              "      <td>prime</td>\n",
              "      <td>full-time</td>\n",
              "      <td>2022-02-09</td>\n",
              "      <td>2022-02-09</td>\n",
              "      <td>None</td>\n",
              "      <td>2022-02-09</td>\n",
              "      <td>open</td>\n",
              "      <td>0.0</td>\n",
              "      <td>0.0</td>\n",
              "      <td>0.0</td>\n",
              "      <td>0.0</td>\n",
              "      <td>0.0</td>\n",
              "      <td>0.0</td>\n",
              "      <td>2022-02-09</td>\n",
              "      <td>2022-03-11</td>\n",
              "      <td>es</td>\n",
              "      <td>NaN</td>\n",
              "      <td>NaN</td>\n",
              "      <td>1.0</td>\n",
              "      <td>uk7zMd5lAGHR</td>\n",
              "    </tr>\n",
              "    <tr>\n",
              "      <th>2</th>\n",
              "      <td>1858930</td>\n",
              "      <td>Key Account Manager</td>\n",
              "      <td>405121.0</td>\n",
              "      <td>Bogotá, Bogota, Colombia</td>\n",
              "      <td>prime</td>\n",
              "      <td>full-time</td>\n",
              "      <td>2022-02-09</td>\n",
              "      <td>2022-02-09</td>\n",
              "      <td>None</td>\n",
              "      <td>2022-02-09</td>\n",
              "      <td>open</td>\n",
              "      <td>0.0</td>\n",
              "      <td>0.0</td>\n",
              "      <td>1.0</td>\n",
              "      <td>0.0</td>\n",
              "      <td>0.0</td>\n",
              "      <td>0.0</td>\n",
              "      <td>2022-02-10</td>\n",
              "      <td>2022-03-11</td>\n",
              "      <td>en</td>\n",
              "      <td>NaN</td>\n",
              "      <td>NaN</td>\n",
              "      <td>1.0</td>\n",
              "      <td>Eg35bwK6BLpu</td>\n",
              "    </tr>\n",
              "    <tr>\n",
              "      <th>3</th>\n",
              "      <td>1858926</td>\n",
              "      <td>Business Intelligence Engineer</td>\n",
              "      <td>405121.0</td>\n",
              "      <td>Colombia</td>\n",
              "      <td>prime</td>\n",
              "      <td>full-time</td>\n",
              "      <td>2022-02-09</td>\n",
              "      <td>2022-02-09</td>\n",
              "      <td>None</td>\n",
              "      <td>2022-02-09</td>\n",
              "      <td>open</td>\n",
              "      <td>0.0</td>\n",
              "      <td>0.0</td>\n",
              "      <td>0.0</td>\n",
              "      <td>0.0</td>\n",
              "      <td>0.0</td>\n",
              "      <td>0.0</td>\n",
              "      <td>2022-02-09</td>\n",
              "      <td>2022-03-11</td>\n",
              "      <td>en</td>\n",
              "      <td>NaN</td>\n",
              "      <td>NaN</td>\n",
              "      <td>1.0</td>\n",
              "      <td>sR2y3SmwbqPi</td>\n",
              "    </tr>\n",
              "    <tr>\n",
              "      <th>4</th>\n",
              "      <td>1858923</td>\n",
              "      <td>UX/UI Designer</td>\n",
              "      <td>926848.0</td>\n",
              "      <td>None</td>\n",
              "      <td>self_service</td>\n",
              "      <td>full-time</td>\n",
              "      <td>2022-02-09</td>\n",
              "      <td>2022-02-09</td>\n",
              "      <td>None</td>\n",
              "      <td>2022-02-09</td>\n",
              "      <td>open</td>\n",
              "      <td>1.0</td>\n",
              "      <td>1.0</td>\n",
              "      <td>1.0</td>\n",
              "      <td>0.0</td>\n",
              "      <td>0.0</td>\n",
              "      <td>0.0</td>\n",
              "      <td>2022-02-09</td>\n",
              "      <td>2022-03-11</td>\n",
              "      <td>es</td>\n",
              "      <td>NaN</td>\n",
              "      <td>NaN</td>\n",
              "      <td>1.0</td>\n",
              "      <td>t8GeYBIM0TeC</td>\n",
              "    </tr>\n",
              "    <tr>\n",
              "      <th>...</th>\n",
              "      <td>...</td>\n",
              "      <td>...</td>\n",
              "      <td>...</td>\n",
              "      <td>...</td>\n",
              "      <td>...</td>\n",
              "      <td>...</td>\n",
              "      <td>...</td>\n",
              "      <td>...</td>\n",
              "      <td>...</td>\n",
              "      <td>...</td>\n",
              "      <td>...</td>\n",
              "      <td>...</td>\n",
              "      <td>...</td>\n",
              "      <td>...</td>\n",
              "      <td>...</td>\n",
              "      <td>...</td>\n",
              "      <td>...</td>\n",
              "      <td>...</td>\n",
              "      <td>...</td>\n",
              "      <td>...</td>\n",
              "      <td>...</td>\n",
              "      <td>...</td>\n",
              "      <td>...</td>\n",
              "      <td>...</td>\n",
              "    </tr>\n",
              "    <tr>\n",
              "      <th>4930</th>\n",
              "      <td>75319</td>\n",
              "      <td>Desarrollador Web - PHP &amp; JS</td>\n",
              "      <td>730852.0</td>\n",
              "      <td>None</td>\n",
              "      <td>self_service</td>\n",
              "      <td>full-time</td>\n",
              "      <td>2021-01-06</td>\n",
              "      <td>2021-01-14</td>\n",
              "      <td>None</td>\n",
              "      <td>None</td>\n",
              "      <td>closed</td>\n",
              "      <td>139.0</td>\n",
              "      <td>0.0</td>\n",
              "      <td>12.0</td>\n",
              "      <td>4.0</td>\n",
              "      <td>15.0</td>\n",
              "      <td>100.0</td>\n",
              "      <td>2021-10-17</td>\n",
              "      <td>2021-02-04</td>\n",
              "      <td>en</td>\n",
              "      <td>1.0</td>\n",
              "      <td>NaN</td>\n",
              "      <td>NaN</td>\n",
              "      <td>dWofLGCm8V39</td>\n",
              "    </tr>\n",
              "    <tr>\n",
              "      <th>4931</th>\n",
              "      <td>75318</td>\n",
              "      <td>Desarrollador Flutter</td>\n",
              "      <td>730852.0</td>\n",
              "      <td>None</td>\n",
              "      <td>self_service</td>\n",
              "      <td>full-time</td>\n",
              "      <td>2021-01-06</td>\n",
              "      <td>2021-01-14</td>\n",
              "      <td>None</td>\n",
              "      <td>None</td>\n",
              "      <td>closed</td>\n",
              "      <td>129.0</td>\n",
              "      <td>0.0</td>\n",
              "      <td>5.0</td>\n",
              "      <td>9.0</td>\n",
              "      <td>6.0</td>\n",
              "      <td>100.0</td>\n",
              "      <td>2021-10-17</td>\n",
              "      <td>2021-04-01</td>\n",
              "      <td>es</td>\n",
              "      <td>1.0</td>\n",
              "      <td>NaN</td>\n",
              "      <td>NaN</td>\n",
              "      <td>tDBcd7OtbOVJ</td>\n",
              "    </tr>\n",
              "    <tr>\n",
              "      <th>4932</th>\n",
              "      <td>75274</td>\n",
              "      <td>Desarrollador Magento para soporte a Desarroll...</td>\n",
              "      <td>610062.0</td>\n",
              "      <td>None</td>\n",
              "      <td>self_service</td>\n",
              "      <td>part-time</td>\n",
              "      <td>2021-01-06</td>\n",
              "      <td>2021-01-06</td>\n",
              "      <td>None</td>\n",
              "      <td>None</td>\n",
              "      <td>closed</td>\n",
              "      <td>60.0</td>\n",
              "      <td>0.0</td>\n",
              "      <td>6.0</td>\n",
              "      <td>0.0</td>\n",
              "      <td>21.0</td>\n",
              "      <td>39.0</td>\n",
              "      <td>2021-03-05</td>\n",
              "      <td>2021-01-27</td>\n",
              "      <td>es</td>\n",
              "      <td>1.0</td>\n",
              "      <td>NaN</td>\n",
              "      <td>NaN</td>\n",
              "      <td>D3Ea4bojzkAc</td>\n",
              "    </tr>\n",
              "    <tr>\n",
              "      <th>4933</th>\n",
              "      <td>75250</td>\n",
              "      <td>Analista administrativo/a</td>\n",
              "      <td>755408.0</td>\n",
              "      <td>Colombia</td>\n",
              "      <td>self_service</td>\n",
              "      <td>full-time</td>\n",
              "      <td>2021-01-06</td>\n",
              "      <td>2021-01-12</td>\n",
              "      <td>None</td>\n",
              "      <td>None</td>\n",
              "      <td>closed</td>\n",
              "      <td>104.0</td>\n",
              "      <td>0.0</td>\n",
              "      <td>17.0</td>\n",
              "      <td>17.0</td>\n",
              "      <td>1.0</td>\n",
              "      <td>30.0</td>\n",
              "      <td>2021-10-09</td>\n",
              "      <td>2021-01-29</td>\n",
              "      <td>es</td>\n",
              "      <td>1.0</td>\n",
              "      <td>NaN</td>\n",
              "      <td>NaN</td>\n",
              "      <td>hjeA51VwDzs0</td>\n",
              "    </tr>\n",
              "    <tr>\n",
              "      <th>4934</th>\n",
              "      <td>75000</td>\n",
              "      <td>Coordinador/a Sr Marketing y Comunicaciones</td>\n",
              "      <td>755408.0</td>\n",
              "      <td>None</td>\n",
              "      <td>self_service</td>\n",
              "      <td>full-time</td>\n",
              "      <td>2021-01-04</td>\n",
              "      <td>2021-01-12</td>\n",
              "      <td>None</td>\n",
              "      <td>2021-07-25</td>\n",
              "      <td>closed</td>\n",
              "      <td>122.0</td>\n",
              "      <td>0.0</td>\n",
              "      <td>43.0</td>\n",
              "      <td>26.0</td>\n",
              "      <td>0.0</td>\n",
              "      <td>89.0</td>\n",
              "      <td>2021-10-09</td>\n",
              "      <td>2021-07-25</td>\n",
              "      <td>es</td>\n",
              "      <td>NaN</td>\n",
              "      <td>NaN</td>\n",
              "      <td>NaN</td>\n",
              "      <td>WDWoOIQv9lEq</td>\n",
              "    </tr>\n",
              "  </tbody>\n",
              "</table>\n",
              "<p>4935 rows × 24 columns</p>\n",
              "</div>\n",
              "      <button class=\"colab-df-convert\" onclick=\"convertToInteractive('df-dd77b8e6-ac89-4132-8387-1b2c604ce085')\"\n",
              "              title=\"Convert this dataframe to an interactive table.\"\n",
              "              style=\"display:none;\">\n",
              "        \n",
              "  <svg xmlns=\"http://www.w3.org/2000/svg\" height=\"24px\"viewBox=\"0 0 24 24\"\n",
              "       width=\"24px\">\n",
              "    <path d=\"M0 0h24v24H0V0z\" fill=\"none\"/>\n",
              "    <path d=\"M18.56 5.44l.94 2.06.94-2.06 2.06-.94-2.06-.94-.94-2.06-.94 2.06-2.06.94zm-11 1L8.5 8.5l.94-2.06 2.06-.94-2.06-.94L8.5 2.5l-.94 2.06-2.06.94zm10 10l.94 2.06.94-2.06 2.06-.94-2.06-.94-.94-2.06-.94 2.06-2.06.94z\"/><path d=\"M17.41 7.96l-1.37-1.37c-.4-.4-.92-.59-1.43-.59-.52 0-1.04.2-1.43.59L10.3 9.45l-7.72 7.72c-.78.78-.78 2.05 0 2.83L4 21.41c.39.39.9.59 1.41.59.51 0 1.02-.2 1.41-.59l7.78-7.78 2.81-2.81c.8-.78.8-2.07 0-2.86zM5.41 20L4 18.59l7.72-7.72 1.47 1.35L5.41 20z\"/>\n",
              "  </svg>\n",
              "      </button>\n",
              "      \n",
              "  <style>\n",
              "    .colab-df-container {\n",
              "      display:flex;\n",
              "      flex-wrap:wrap;\n",
              "      gap: 12px;\n",
              "    }\n",
              "\n",
              "    .colab-df-convert {\n",
              "      background-color: #E8F0FE;\n",
              "      border: none;\n",
              "      border-radius: 50%;\n",
              "      cursor: pointer;\n",
              "      display: none;\n",
              "      fill: #1967D2;\n",
              "      height: 32px;\n",
              "      padding: 0 0 0 0;\n",
              "      width: 32px;\n",
              "    }\n",
              "\n",
              "    .colab-df-convert:hover {\n",
              "      background-color: #E2EBFA;\n",
              "      box-shadow: 0px 1px 2px rgba(60, 64, 67, 0.3), 0px 1px 3px 1px rgba(60, 64, 67, 0.15);\n",
              "      fill: #174EA6;\n",
              "    }\n",
              "\n",
              "    [theme=dark] .colab-df-convert {\n",
              "      background-color: #3B4455;\n",
              "      fill: #D2E3FC;\n",
              "    }\n",
              "\n",
              "    [theme=dark] .colab-df-convert:hover {\n",
              "      background-color: #434B5C;\n",
              "      box-shadow: 0px 1px 3px 1px rgba(0, 0, 0, 0.15);\n",
              "      filter: drop-shadow(0px 1px 2px rgba(0, 0, 0, 0.3));\n",
              "      fill: #FFFFFF;\n",
              "    }\n",
              "  </style>\n",
              "\n",
              "      <script>\n",
              "        const buttonEl =\n",
              "          document.querySelector('#df-dd77b8e6-ac89-4132-8387-1b2c604ce085 button.colab-df-convert');\n",
              "        buttonEl.style.display =\n",
              "          google.colab.kernel.accessAllowed ? 'block' : 'none';\n",
              "\n",
              "        async function convertToInteractive(key) {\n",
              "          const element = document.querySelector('#df-dd77b8e6-ac89-4132-8387-1b2c604ce085');\n",
              "          const dataTable =\n",
              "            await google.colab.kernel.invokeFunction('convertToInteractive',\n",
              "                                                     [key], {});\n",
              "          if (!dataTable) return;\n",
              "\n",
              "          const docLinkHtml = 'Like what you see? Visit the ' +\n",
              "            '<a target=\"_blank\" href=https://colab.research.google.com/notebooks/data_table.ipynb>data table notebook</a>'\n",
              "            + ' to learn more about interactive tables.';\n",
              "          element.innerHTML = '';\n",
              "          dataTable['output_type'] = 'display_data';\n",
              "          await google.colab.output.renderOutput(dataTable, element);\n",
              "          const docLink = document.createElement('div');\n",
              "          docLink.innerHTML = docLinkHtml;\n",
              "          element.appendChild(docLink);\n",
              "        }\n",
              "      </script>\n",
              "    </div>\n",
              "  </div>\n",
              "  "
            ],
            "text/plain": [
              "           ID  ... Sharing token\n",
              "0     1858934  ...  y9sXxk1VXfQt\n",
              "1     1858933  ...  uk7zMd5lAGHR\n",
              "2     1858930  ...  Eg35bwK6BLpu\n",
              "3     1858926  ...  sR2y3SmwbqPi\n",
              "4     1858923  ...  t8GeYBIM0TeC\n",
              "...       ...  ...           ...\n",
              "4930    75319  ...  dWofLGCm8V39\n",
              "4931    75318  ...  tDBcd7OtbOVJ\n",
              "4932    75274  ...  D3Ea4bojzkAc\n",
              "4933    75250  ...  hjeA51VwDzs0\n",
              "4934    75000  ...  WDWoOIQv9lEq\n",
              "\n",
              "[4935 rows x 24 columns]"
            ]
          },
          "metadata": {},
          "execution_count": 49
        }
      ]
    },
    {
      "cell_type": "code",
      "source": [
        "organizations_df.index"
      ],
      "metadata": {
        "colab": {
          "base_uri": "https://localhost:8080/"
        },
        "id": "LBZLDFA9oRJr",
        "outputId": "15546471-a1f1-4150-f55d-47038f6e3a6f"
      },
      "execution_count": null,
      "outputs": [
        {
          "output_type": "execute_result",
          "data": {
            "text/plain": [
              "RangeIndex(start=0, stop=495267, step=1)"
            ]
          },
          "metadata": {},
          "execution_count": 50
        }
      ]
    },
    {
      "cell_type": "code",
      "source": [
        "# Alfa ID Generator\n",
        "def alfa_id(id):\n",
        "  return hasher.encode(id)\n",
        "\n",
        "# URL Generator\n",
        "def url_generator(id):\n",
        "  return 'https://torre.co/postings/'+hasher.encode(id)\n",
        "\n",
        "# Manager URL Generator\n",
        "def manager_generator(id):\n",
        "  return 'https://torre.co/postings/'+hasher.encode(id)+'/members-list?sharingToken='\n",
        "\n",
        "# Transforms columns\n",
        "main_df.insert(1,\"Alfa ID\", main_df['ID'].apply(alfa_id),True)\n",
        "main_df.insert( 2,\"URL\", main_df['ID'].apply(url_generator),True)\n",
        "\n",
        "main_df.insert( 6,\"Manager link\", 'https://torre.co/postings/'+ main_df['Alfa ID'] +'/members-list?sharingToken='+ main_df['Sharing token'] ,True)"
      ],
      "metadata": {
        "id": "7zrrEYlQFAb3"
      },
      "execution_count": null,
      "outputs": []
    },
    {
      "cell_type": "code",
      "source": [
        "notifications_df.dtypes"
      ],
      "metadata": {
        "colab": {
          "base_uri": "https://localhost:8080/"
        },
        "id": "xeIfkjSWPn6G",
        "outputId": "31aa0ac8-a012-4d0c-e8c2-d1a8db993cc1"
      },
      "execution_count": null,
      "outputs": [
        {
          "output_type": "execute_result",
          "data": {
            "text/plain": [
              "alfaid          object\n",
              "realistic        int64\n",
              "people           int64\n",
              "organization     int64\n",
              "dtype: object"
            ]
          },
          "metadata": {},
          "execution_count": 52
        }
      ]
    },
    {
      "cell_type": "code",
      "source": [
        "notifications_df = notifications_df.rename(columns={'alfaid':'Alfa ID','realistic':'Sent Matches','people':'Sent SigPeop','organization': 'Sent SigOrg'})\n",
        "\n",
        "request_manual_invite_df = request_manual_invite_df.rename(columns={'AlfaID':'Alfa ID','sent':'Sent manual invite','pending':'Pending manual invite'})"
      ],
      "metadata": {
        "id": "tXYjA1vdiE8J"
      },
      "execution_count": null,
      "outputs": []
    },
    {
      "cell_type": "code",
      "source": [
        "opportunities_df = pd.merge(left=main_df,right=organizations_df)\n",
        "opportunities_df = pd.merge(left=opportunities_df,right=notifications_df)\n",
        "opportunities_df = pd.merge(left=opportunities_df,right=request_manual_invite_df)\n",
        "\n",
        "opportunities_df = opportunities_df.reindex(columns=['ID','Job title','Company','Alfa ID','location','Created date','Approved date','Commited date','Applicant Acquisition Coordinator','Type of job',\n",
        "                                             'Type of service','URL','Manager link','Language of the post','Status','Last changes','Closing Date',\n",
        "                                             'Completed applications','Completed applications yesterday','Incomplete applications','Mutual matches','Opportunity approved yesterday','Disqualified','Others','Hires','Hires yesterday',\n",
        "                                             'Sent Matches','Sent SigPeop','Sent SigOrg','Sent manual invite','Pending manual invite'])"
      ],
      "metadata": {
        "id": "kGEAiQL1mOdx"
      },
      "execution_count": null,
      "outputs": []
    },
    {
      "cell_type": "code",
      "source": [
        "sheet = gc.open_by_url('https://docs.google.com/spreadsheets/d/1V1RkMTrOFEQLsYGJaA9KukO9fgtgf6uwG8o-QHrkk2Q/edit#gid=0').sheet1\n",
        "\n",
        "sheet.clear()\n",
        "\n",
        "set_with_dataframe(sheet, opportunities_df) "
      ],
      "metadata": {
        "id": "vI6pSuDzGlio"
      },
      "execution_count": null,
      "outputs": []
    },
    {
      "cell_type": "markdown",
      "source": [
        "# Update Google Sheet"
      ],
      "metadata": {
        "id": "QMzARdX6Z4wz"
      }
    },
    {
      "cell_type": "code",
      "source": [
        "sheet = gc.open_by_url('https://docs.google.com/spreadsheets/d/1V1RkMTrOFEQLsYGJaA9KukO9fgtgf6uwG8o-QHrkk2Q/edit#gid=0').sheet1\n",
        "\n",
        "sheet.clear()\n",
        "\n",
        "set_with_dataframe(sheet, opportunities_df) "
      ],
      "metadata": {
        "id": "MATPQyjrZjMB"
      },
      "execution_count": null,
      "outputs": []
    },
    {
      "cell_type": "markdown",
      "source": [
        "# Save to Google drive"
      ],
      "metadata": {
        "id": "rMhhX_VxaIO-"
      }
    },
    {
      "cell_type": "markdown",
      "source": [
        "##### Save csv"
      ],
      "metadata": {
        "id": "nGmazQbzG9Vv"
      }
    },
    {
      "cell_type": "code",
      "source": [
        "drive.mount('/content/drive')"
      ],
      "metadata": {
        "id": "h5x9poeeHYeE"
      },
      "execution_count": null,
      "outputs": []
    },
    {
      "cell_type": "code",
      "source": [
        "opportunities_df.to_csv('/content/drive/My Drive/Data_studio_dataset/Dataset.csv',index=False,encoding='utf-8')"
      ],
      "metadata": {
        "id": "CJDN3td_4h1Z"
      },
      "execution_count": null,
      "outputs": []
    },
    {
      "cell_type": "markdown",
      "source": [
        "##### Save  Excel"
      ],
      "metadata": {
        "id": "-gG-UM0Kciro"
      }
    },
    {
      "cell_type": "code",
      "source": [
        "drive.mount('/content/drive')"
      ],
      "metadata": {
        "id": "0gG_v4_JQhhq"
      },
      "execution_count": null,
      "outputs": []
    },
    {
      "cell_type": "code",
      "source": [
        "opportunities_df.to_excel('/drive/My Drive/Data_studio_dataset/Dataset.xls',index=False,encoding='utf-8')"
      ],
      "metadata": {
        "id": "8T6RTFK7aufL"
      },
      "execution_count": null,
      "outputs": []
    },
    {
      "cell_type": "markdown",
      "source": [
        "# Testing"
      ],
      "metadata": {
        "id": "2L6qXQC187G6"
      }
    },
    {
      "cell_type": "code",
      "source": [
        "query_testing = \"\"\"\n",
        "\n",
        "select id as 'Company_id', name as 'Company' from organizations ;\n",
        "\n",
        "\"\"\""
      ],
      "metadata": {
        "id": "fTGW5qMc8_Ms"
      },
      "execution_count": null,
      "outputs": []
    },
    {
      "cell_type": "code",
      "source": [
        "Testing = pd.DataFrame(gallifrey.solar.execute_query(query_testing))"
      ],
      "metadata": {
        "id": "oIlSlyfp9KH8"
      },
      "execution_count": null,
      "outputs": []
    },
    {
      "cell_type": "code",
      "source": [
        "!rm -r Job-listing-Query\n",
        "!git clone https://github.com/alexisnpavlik/Job-listing-Query.git\n",
        "\n",
        "main_query=open(\"\"\"/content/Job-listing-Query/testing.sql\"\"\", 'r').read()\n",
        "organizations_query=open(\"\"\"/content/Job-listing-Query/organizations_query.sql\"\"\", 'r').read()"
      ],
      "metadata": {
        "colab": {
          "base_uri": "https://localhost:8080/"
        },
        "id": "gY9tBKy4MHOJ",
        "outputId": "f683eeef-24c7-48c6-99bd-501248dfed6c"
      },
      "execution_count": null,
      "outputs": [
        {
          "output_type": "stream",
          "name": "stdout",
          "text": [
            "Cloning into 'Job-listing-Query'...\n",
            "remote: Enumerating objects: 274, done.\u001b[K\n",
            "remote: Counting objects: 100% (274/274), done.\u001b[K\n",
            "remote: Compressing objects: 100% (190/190), done.\u001b[K\n",
            "remote: Total 274 (delta 166), reused 186 (delta 82), pack-reused 0\u001b[K\n",
            "Receiving objects: 100% (274/274), 44.00 KiB | 464.00 KiB/s, done.\n",
            "Resolving deltas: 100% (166/166), done.\n"
          ]
        }
      ]
    },
    {
      "cell_type": "markdown",
      "source": [
        "### Update Google Sheet"
      ],
      "metadata": {
        "id": "zuFiDgH30Scc"
      }
    },
    {
      "cell_type": "code",
      "source": [
        "sheet = gc.open_by_url('https://docs.google.com/spreadsheets/d/1V1RkMTrOFEQLsYGJaA9KukO9fgtgf6uwG8o-QHrkk2Q/edit#gid=0').sheet1\n",
        "\n",
        "sheet.clear()\n",
        "\n",
        "set_with_dataframe(sheet, Testing) "
      ],
      "metadata": {
        "id": "VY0uVtiw0SdK"
      },
      "execution_count": null,
      "outputs": []
    },
    {
      "cell_type": "code",
      "source": [
        "Testing.head()"
      ],
      "metadata": {
        "colab": {
          "base_uri": "https://localhost:8080/",
          "height": 206
        },
        "id": "_ds8MIvZsdoc",
        "outputId": "28d90a12-1f22-4731-b7a2-e5dc73fc9961"
      },
      "execution_count": null,
      "outputs": [
        {
          "output_type": "execute_result",
          "data": {
            "text/html": [
              "\n",
              "  <div id=\"df-3dd74a7a-7ef1-472e-8e8b-99f6aa0c87ca\">\n",
              "    <div class=\"colab-df-container\">\n",
              "      <div>\n",
              "<style scoped>\n",
              "    .dataframe tbody tr th:only-of-type {\n",
              "        vertical-align: middle;\n",
              "    }\n",
              "\n",
              "    .dataframe tbody tr th {\n",
              "        vertical-align: top;\n",
              "    }\n",
              "\n",
              "    .dataframe thead th {\n",
              "        text-align: right;\n",
              "    }\n",
              "</style>\n",
              "<table border=\"1\" class=\"dataframe\">\n",
              "  <thead>\n",
              "    <tr style=\"text-align: right;\">\n",
              "      <th></th>\n",
              "      <th>Company_id</th>\n",
              "      <th>Company</th>\n",
              "    </tr>\n",
              "  </thead>\n",
              "  <tbody>\n",
              "    <tr>\n",
              "      <th>0</th>\n",
              "      <td>795908</td>\n",
              "      <td></td>\n",
              "    </tr>\n",
              "    <tr>\n",
              "      <th>1</th>\n",
              "      <td>773085</td>\n",
              "      <td>0 2 Convergencia Digital S A S</td>\n",
              "    </tr>\n",
              "    <tr>\n",
              "      <th>2</th>\n",
              "      <td>763230</td>\n",
              "      <td>2 Way Sports</td>\n",
              "    </tr>\n",
              "    <tr>\n",
              "      <th>3</th>\n",
              "      <td>795148</td>\n",
              "      <td>23Ky Colombia S.A.S.</td>\n",
              "    </tr>\n",
              "    <tr>\n",
              "      <th>4</th>\n",
              "      <td>891553</td>\n",
              "      <td>60 Decibels</td>\n",
              "    </tr>\n",
              "  </tbody>\n",
              "</table>\n",
              "</div>\n",
              "      <button class=\"colab-df-convert\" onclick=\"convertToInteractive('df-3dd74a7a-7ef1-472e-8e8b-99f6aa0c87ca')\"\n",
              "              title=\"Convert this dataframe to an interactive table.\"\n",
              "              style=\"display:none;\">\n",
              "        \n",
              "  <svg xmlns=\"http://www.w3.org/2000/svg\" height=\"24px\"viewBox=\"0 0 24 24\"\n",
              "       width=\"24px\">\n",
              "    <path d=\"M0 0h24v24H0V0z\" fill=\"none\"/>\n",
              "    <path d=\"M18.56 5.44l.94 2.06.94-2.06 2.06-.94-2.06-.94-.94-2.06-.94 2.06-2.06.94zm-11 1L8.5 8.5l.94-2.06 2.06-.94-2.06-.94L8.5 2.5l-.94 2.06-2.06.94zm10 10l.94 2.06.94-2.06 2.06-.94-2.06-.94-.94-2.06-.94 2.06-2.06.94z\"/><path d=\"M17.41 7.96l-1.37-1.37c-.4-.4-.92-.59-1.43-.59-.52 0-1.04.2-1.43.59L10.3 9.45l-7.72 7.72c-.78.78-.78 2.05 0 2.83L4 21.41c.39.39.9.59 1.41.59.51 0 1.02-.2 1.41-.59l7.78-7.78 2.81-2.81c.8-.78.8-2.07 0-2.86zM5.41 20L4 18.59l7.72-7.72 1.47 1.35L5.41 20z\"/>\n",
              "  </svg>\n",
              "      </button>\n",
              "      \n",
              "  <style>\n",
              "    .colab-df-container {\n",
              "      display:flex;\n",
              "      flex-wrap:wrap;\n",
              "      gap: 12px;\n",
              "    }\n",
              "\n",
              "    .colab-df-convert {\n",
              "      background-color: #E8F0FE;\n",
              "      border: none;\n",
              "      border-radius: 50%;\n",
              "      cursor: pointer;\n",
              "      display: none;\n",
              "      fill: #1967D2;\n",
              "      height: 32px;\n",
              "      padding: 0 0 0 0;\n",
              "      width: 32px;\n",
              "    }\n",
              "\n",
              "    .colab-df-convert:hover {\n",
              "      background-color: #E2EBFA;\n",
              "      box-shadow: 0px 1px 2px rgba(60, 64, 67, 0.3), 0px 1px 3px 1px rgba(60, 64, 67, 0.15);\n",
              "      fill: #174EA6;\n",
              "    }\n",
              "\n",
              "    [theme=dark] .colab-df-convert {\n",
              "      background-color: #3B4455;\n",
              "      fill: #D2E3FC;\n",
              "    }\n",
              "\n",
              "    [theme=dark] .colab-df-convert:hover {\n",
              "      background-color: #434B5C;\n",
              "      box-shadow: 0px 1px 3px 1px rgba(0, 0, 0, 0.15);\n",
              "      filter: drop-shadow(0px 1px 2px rgba(0, 0, 0, 0.3));\n",
              "      fill: #FFFFFF;\n",
              "    }\n",
              "  </style>\n",
              "\n",
              "      <script>\n",
              "        const buttonEl =\n",
              "          document.querySelector('#df-3dd74a7a-7ef1-472e-8e8b-99f6aa0c87ca button.colab-df-convert');\n",
              "        buttonEl.style.display =\n",
              "          google.colab.kernel.accessAllowed ? 'block' : 'none';\n",
              "\n",
              "        async function convertToInteractive(key) {\n",
              "          const element = document.querySelector('#df-3dd74a7a-7ef1-472e-8e8b-99f6aa0c87ca');\n",
              "          const dataTable =\n",
              "            await google.colab.kernel.invokeFunction('convertToInteractive',\n",
              "                                                     [key], {});\n",
              "          if (!dataTable) return;\n",
              "\n",
              "          const docLinkHtml = 'Like what you see? Visit the ' +\n",
              "            '<a target=\"_blank\" href=https://colab.research.google.com/notebooks/data_table.ipynb>data table notebook</a>'\n",
              "            + ' to learn more about interactive tables.';\n",
              "          element.innerHTML = '';\n",
              "          dataTable['output_type'] = 'display_data';\n",
              "          await google.colab.output.renderOutput(dataTable, element);\n",
              "          const docLink = document.createElement('div');\n",
              "          docLink.innerHTML = docLinkHtml;\n",
              "          element.appendChild(docLink);\n",
              "        }\n",
              "      </script>\n",
              "    </div>\n",
              "  </div>\n",
              "  "
            ],
            "text/plain": [
              "   Company_id                          Company\n",
              "0      795908                                 \n",
              "1      773085   0 2 Convergencia Digital S A S\n",
              "2      763230                    2 Way Sports \n",
              "3      795148             23Ky Colombia S.A.S.\n",
              "4      891553                      60 Decibels"
            ]
          },
          "metadata": {},
          "execution_count": 84
        }
      ]
    }
  ]
}