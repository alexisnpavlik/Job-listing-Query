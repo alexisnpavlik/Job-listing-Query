{
  "nbformat": 4,
  "nbformat_minor": 0,
  "metadata": {
    "colab": {
      "name": "#SONIC Experiment - Alexis.ipynb",
      "provenance": [],
      "toc_visible": true,
      "include_colab_link": true
    },
    "kernelspec": {
      "name": "python3",
      "display_name": "Python 3"
    },
    "language_info": {
      "name": "python"
    }
  },
  "cells": [
    {
      "cell_type": "markdown",
      "metadata": {
        "id": "view-in-github",
        "colab_type": "text"
      },
      "source": [
        "<a href=\"https://colab.research.google.com/github/alexisnpavlik/Job-listing-Query/blob/main/SONIC_Experiment_Alexis.ipynb\" target=\"_parent\"><img src=\"https://colab.research.google.com/assets/colab-badge.svg\" alt=\"Open In Colab\"/></a>"
      ]
    },
    {
      "cell_type": "markdown",
      "source": [
        "## Set Up"
      ],
      "metadata": {
        "id": "HCaYxKgOEjk-"
      }
    },
    {
      "cell_type": "code",
      "execution_count": 1,
      "metadata": {
        "id": "9bkXbPETw0vm",
        "colab": {
          "base_uri": "https://localhost:8080/"
        },
        "outputId": "32b4d318-8188-4927-8419-137360a3f3bc"
      },
      "outputs": [
        {
          "name": "stdout",
          "output_type": "stream",
          "text": [
            "Go to the following link in your browser:\n",
            "\n",
            "    https://accounts.google.com/o/oauth2/auth?response_type=code&client_id=32555940559.apps.googleusercontent.com&redirect_uri=urn%3Aietf%3Awg%3Aoauth%3A2.0%3Aoob&scope=openid+https%3A%2F%2Fwww.googleapis.com%2Fauth%2Fuserinfo.email+https%3A%2F%2Fwww.googleapis.com%2Fauth%2Fcloud-platform+https%3A%2F%2Fwww.googleapis.com%2Fauth%2Fappengine.admin+https%3A%2F%2Fwww.googleapis.com%2Fauth%2Fcompute+https%3A%2F%2Fwww.googleapis.com%2Fauth%2Faccounts.reauth+https%3A%2F%2Fwww.googleapis.com%2Fauth%2Fdrive&state=XL3ALjO4OuZw6mD3MpiWXAd0ZP2B8Z&prompt=consent&access_type=offline&code_challenge=myjhzip3BB3czZXG4cYxmyRjS_DppoOkrYKfFZocALE&code_challenge_method=S256\n",
            "\n",
            "Enter verification code: 4/1AX4XfWhY8n7bQ7fgG-WhhCN8K9vOTJa6XHwZBJs9A28_QNSqTIqn6I11Wc8\n"
          ]
        }
      ],
      "source": [
        "# Prepare the environment\n",
        "%%capture\n",
        "from google.colab import drive, auth\n",
        "drive.mount('/content/drive')\n",
        "%cd /content/drive/MyDrive/python-library\n",
        "!pip install .\n",
        "!sudo apt-get install python-pymysql\n",
        "!pip install colab-env\n",
        "!pip install Hashids\n",
        "import colab_env\n",
        "%cd /content\n",
        "import nltk\n",
        "nltk.download('stopwords')\n",
        "import gallifrey\n",
        "import pandas as pd\n",
        "import numpy as np\n",
        "import time\n",
        "from hashids import Hashids\n",
        "\n",
        "#Set up for Hash calculation\n",
        "hasher = Hashids(\"jS5qAlR0kHbAeqeuVowPBnyotKuTvvlGzIzkEtz79XQGB7BJHb\", \n",
        "                 8, \n",
        "                 \"abcdefghijklmnopqrstuvwxyzABCDEFGHIJKLMNOPQRSTUVWXYZ1234567890\")\n",
        "\n",
        "# Authenticate\n",
        "auth.authenticate_user()\n",
        "import gspread\n",
        "from oauth2client.client import GoogleCredentials as GC\n",
        "gc = gspread.authorize(GC.get_application_default())\n",
        "\n",
        "# create, and save df\n",
        "from gspread_dataframe import set_with_dataframe"
      ]
    },
    {
      "cell_type": "markdown",
      "source": [
        "## Query\n"
      ],
      "metadata": {
        "id": "PHYvoY4haUts"
      }
    },
    {
      "cell_type": "code",
      "source": [
        "main_query= \"\"\"\n",
        "\n",
        "SELECT\n",
        "    -- ID\n",
        "    o.id as ID,\n",
        "    -- Job title\n",
        "    o.objective as 'Job title',\n",
        "    -- Company\n",
        "   (select organization_id from opportunity_organizations where opportunity_id =  o.id  group by organization_id limit 1) as 'Company_id',\n",
        "    -- location\n",
        "    (select group_concat(l.location) from opportunity_places l where l.opportunity_id = o.id and l.active = 1) as 'location',\n",
        "    -- Created date \n",
        "    DATE(o.created) as 'Created date',\n",
        "    -- Approved date\n",
        "    DATE(o.reviewed) as 'Approved date',\n",
        "    -- Commit date\n",
        "    DATE(och.created) as 'Commited date',\n",
        "    -- Account Manager\n",
        "    p.name as 'Account manager',\n",
        "    -- Type of job\n",
        "    o.commitment_id as 'Type of job',\n",
        "    -- Type of service\n",
        "    o.fulfillment as 'Type of service',\n",
        "    -- Language of the post\n",
        "    o.locale as 'Language of the post',\n",
        "    -- Status\n",
        "    o.status as 'Status',\n",
        "    -- Changes history, last updated\n",
        "    DATE(o.last_updated) as 'Last changes',\n",
        "    -- Closing date\n",
        "    DATE(o.deadline) as 'Closing Date',\n",
        "\n",
        "    -- Mutual matches\n",
        "    sum(case when me.interested is not null and oc.interested is not null then 1 else 0 end) as 'Mutual Matches',\n",
        "    -- Disqualified\n",
        "    sum(case when me.send_disqualified_notification is not null then 1 else 0 end)  as 'Disqualified',\n",
        "    -- Completed applications\n",
        "    sum(case when oc.interested is not null then 1 else 0 end) as 'Completed Applications',\n",
        "    -- Incomplete applications\n",
        "    sum(case when oc.created is not null then 1 else 0 end) as 'Incomplete applications',\n",
        "    -- Others\n",
        "    sum(case when oc.id is not null and oc.interested is not null and oc.column_id is not null\n",
        "    and oc2.name <> 'mutual matches'\n",
        "    and (last_evaluation.last_interest is not null and (last_evaluation.last_not_interest is null or last_evaluation.last_interest > last_evaluation.last_not_interest)) then 1 else 0 end)\n",
        "    as 'Others',\n",
        "    -- Active\n",
        "    sum(case when me.interested is not null and oc.interested is not null then 1 else 0 end) + sum(case when oc.id is not null and oc.interested is not null and oc.column_id is not null\n",
        "    and oc2.name <> 'mutual matches'\n",
        "    and (last_evaluation.last_interest is not null and (last_evaluation.last_not_interest is null or last_evaluation.last_interest > last_evaluation.last_not_interest)) then 1 else 0 end)  as 'Active',\n",
        "    -- Pending for review\n",
        "    ( sum(case when oc.interested is not null then 1 else 0 end) - ( sum(case when me.interested is not null and oc.interested is not null then 1 else 0 end) + sum(case when oc.id is not null and oc.interested is not null and oc.column_id is not null\n",
        "    and oc2.name <> 'mutual matches'\n",
        "    and (last_evaluation.last_interest is not null and (last_evaluation.last_not_interest is null or last_evaluation.last_interest > last_evaluation.last_not_interest)) then 1 else 0 end) + me.send_disqualified_notification ) ) as 'Pending for review',\n",
        "    -- Hires\n",
        "    DATE(osh.hiring_date) as 'Hires',\n",
        "\n",
        "\n",
        "    -- Sharing token\n",
        "    (select sharing_token from opportunity_members where manager = true and status = 'accepted' and opportunity_id =  o.id  limit 1) as 'Sharing token'\n",
        "\n",
        "FROM opportunities as o\n",
        "\n",
        "    -- Necessary for completed applications and incomplete applications\n",
        "    join opportunity_candidates as oc on o.id = oc.opportunity_id\n",
        "    -- Necessary for account manager\n",
        "    join opportunity_changes_history as och on o.id = och.opportunity_id\n",
        "    -- Necessary for account_mannager\n",
        "    left join person_account_managers as pam on och.person_id = pam.person_id\n",
        "    -- join to make the relation people-person_account_mannager\n",
        "    left join people as p on pam.person_id = p.id\n",
        "    -- join to asign osh to get match dates\n",
        "    left join opportunity_stats_hires osh on o.id = osh.opportunity_id\n",
        "    -- join to get member evaluation\n",
        "    join member_evaluations as me on oc.id = me.candidate_id\n",
        "    -- Join to get the correct relation into id's \n",
        "    left join opportunity_columns oc2 on oc.column_id = oc2.id\n",
        "    -- join to get calculations\n",
        "    left join ( select me.candidate_id, max(me.interested) as last_interest, max(me.not_interested) as last_not_interest\n",
        "    from member_evaluations me group by me.candidate_id) last_evaluation on last_evaluation.candidate_id = oc.id\n",
        "      \n",
        "    \n",
        "\n",
        "WHERE true\n",
        "    #and me.send_disqualified_notification = true\n",
        "    and o.objective <> 'Shared by an intermediary'\n",
        "    and o.review = 'approved'\n",
        "    -- Approved date is not null\n",
        "    and o.reviewed is not null\n",
        "    and osh.hiring_date is not null\n",
        "    and p.username in ('catalinazarate12','juanfebog','jpinilla','cappadaniela27','laumariareyest','laurammedinag','diego19_franco35','inglisscardenas')\n",
        "\n",
        "group by o.id\n",
        "order by o.created desc;\n",
        "\n",
        "\"\"\""
      ],
      "metadata": {
        "id": "bV_rwuw7A1wn"
      },
      "execution_count": 2,
      "outputs": []
    },
    {
      "cell_type": "code",
      "source": [
        "organizations_query = \"\"\"\n",
        "\n",
        "SELECT \n",
        "  id as 'Company_id',\n",
        "  name as 'Company' \n",
        "  \n",
        "FROM organizations;\n",
        "\n",
        "\"\"\""
      ],
      "metadata": {
        "id": "Hi_xn1ZimOdT"
      },
      "execution_count": 3,
      "outputs": []
    },
    {
      "cell_type": "markdown",
      "source": [
        "## Manual Update"
      ],
      "metadata": {
        "id": "qvalMu972hfK"
      }
    },
    {
      "cell_type": "code",
      "source": [
        "main_df = pd.DataFrame(gallifrey.discovery.execute_query(main_query))\n",
        "organizations_df = pd.DataFrame(gallifrey.solar.execute_query(organizations_query))"
      ],
      "metadata": {
        "id": "jNWAeS_dnJXH"
      },
      "execution_count": null,
      "outputs": []
    },
    {
      "cell_type": "code",
      "source": [
        "main_df.head(10)"
      ],
      "metadata": {
        "id": "ntv1ivlAUVxV"
      },
      "execution_count": null,
      "outputs": []
    },
    {
      "cell_type": "code",
      "source": [
        "organizations_df.head(10)"
      ],
      "metadata": {
        "id": "LBZLDFA9oRJr"
      },
      "execution_count": null,
      "outputs": []
    },
    {
      "cell_type": "code",
      "source": [
        "# Alfa ID Generator\n",
        "def alfa_id(id):\n",
        "  return hasher.encode(id)\n",
        "\n",
        "# URL Generator\n",
        "def url_generator(id):\n",
        "  return 'https://torre.co/postings/'+hasher.encode(id)\n",
        "\n",
        "# Manager URL Generator\n",
        "def manager_generator(id):\n",
        "  return 'https://torre.co/postings/'+hasher.encode(id)+'/members-list?sharingToken='\n",
        "\n",
        "# Transforms columns\n",
        "main_df.insert(1,\"Alfa ID\", main_df['ID'].apply(alfa_id),True)\n",
        "main_df.insert( 2,\"URL\", main_df['ID'].apply(url_generator),True)\n",
        "main_df.insert( 3,\"Manager link\", main_df['ID'].apply(manager_generator),True)\n",
        "main_df['Manager link']=main_df['Manager link'].apply(lambda x:x+main_df['Sharing token'])"
      ],
      "metadata": {
        "id": "7zrrEYlQFAb3"
      },
      "execution_count": null,
      "outputs": []
    },
    {
      "cell_type": "code",
      "source": [
        "opportunities_df = pd.merge(left=main_df,right=organizations_df)\n",
        "\n",
        "opportunities_df = opportunities_df.reindex(columns=['ID','Job title','Company','Alfa ID','location','Created date','Approved date','Commited date','Account manager','Type of job',\n",
        "                                             'Type of service','URL','Manager link','Language of the post','Status','Mutual Matches','Disqualified','Last changes','Closing Date',\n",
        "                                             'Completed Applications','Incomplete applications','Others','Active','Pending for review','Hires'])"
      ],
      "metadata": {
        "id": "kGEAiQL1mOdx"
      },
      "execution_count": null,
      "outputs": []
    },
    {
      "cell_type": "markdown",
      "source": [
        "# Update Google Sheet"
      ],
      "metadata": {
        "id": "QMzARdX6Z4wz"
      }
    },
    {
      "cell_type": "code",
      "source": [
        "sheet = gc.open_by_url('https://docs.google.com/spreadsheets/d/1V1RkMTrOFEQLsYGJaA9KukO9fgtgf6uwG8o-QHrkk2Q/edit#gid=0').sheet1\n",
        "\n",
        "sheet.clear()\n",
        "\n",
        "set_with_dataframe(sheet, opportunities_df) "
      ],
      "metadata": {
        "id": "MATPQyjrZjMB"
      },
      "execution_count": null,
      "outputs": []
    },
    {
      "cell_type": "markdown",
      "source": [
        "# Save to Google drive"
      ],
      "metadata": {
        "id": "rMhhX_VxaIO-"
      }
    },
    {
      "cell_type": "markdown",
      "source": [
        "##### Save csv"
      ],
      "metadata": {
        "id": "nGmazQbzG9Vv"
      }
    },
    {
      "cell_type": "code",
      "source": [
        "drive.mount('/content/drive')"
      ],
      "metadata": {
        "id": "h5x9poeeHYeE"
      },
      "execution_count": null,
      "outputs": []
    },
    {
      "cell_type": "code",
      "source": [
        "opportunities_df.to_csv('/content/drive/My Drive/Data_studio_dataset/Dataset.csv',index=False,encoding='utf-8')"
      ],
      "metadata": {
        "id": "CJDN3td_4h1Z"
      },
      "execution_count": null,
      "outputs": []
    },
    {
      "cell_type": "markdown",
      "source": [
        "##### Save  Excel"
      ],
      "metadata": {
        "id": "-gG-UM0Kciro"
      }
    },
    {
      "cell_type": "code",
      "source": [
        "drive.mount('/content/drive')"
      ],
      "metadata": {
        "id": "0gG_v4_JQhhq"
      },
      "execution_count": null,
      "outputs": []
    },
    {
      "cell_type": "code",
      "source": [
        "opportunities_df.to_excel('/drive/My Drive/Data_studio_dataset/Dataset.xls',index=False,encoding='utf-8')"
      ],
      "metadata": {
        "id": "8T6RTFK7aufL"
      },
      "execution_count": null,
      "outputs": []
    },
    {
      "cell_type": "markdown",
      "source": [
        "# Testing"
      ],
      "metadata": {
        "id": "2L6qXQC187G6"
      }
    },
    {
      "cell_type": "code",
      "source": [
        "query_testing = \"\"\"\n",
        "\n",
        "select id as 'Company_id', name as 'Company' from organizations ;\n",
        "\n",
        "\"\"\""
      ],
      "metadata": {
        "id": "fTGW5qMc8_Ms"
      },
      "execution_count": null,
      "outputs": []
    },
    {
      "cell_type": "code",
      "source": [
        "Testing = pd.DataFrame(gallifrey.solar.execute_query(query_testing))"
      ],
      "metadata": {
        "id": "oIlSlyfp9KH8"
      },
      "execution_count": null,
      "outputs": []
    },
    {
      "cell_type": "markdown",
      "source": [
        "### Update Google Sheet"
      ],
      "metadata": {
        "id": "zuFiDgH30Scc"
      }
    },
    {
      "cell_type": "code",
      "source": [
        "sheet = gc.open_by_url('https://docs.google.com/spreadsheets/d/1V1RkMTrOFEQLsYGJaA9KukO9fgtgf6uwG8o-QHrkk2Q/edit#gid=0').sheet1\n",
        "\n",
        "sheet.clear()\n",
        "\n",
        "set_with_dataframe(sheet, Testing) "
      ],
      "metadata": {
        "id": "VY0uVtiw0SdK"
      },
      "execution_count": null,
      "outputs": []
    },
    {
      "cell_type": "code",
      "source": [
        "Testing.head()"
      ],
      "metadata": {
        "colab": {
          "base_uri": "https://localhost:8080/",
          "height": 206
        },
        "id": "_ds8MIvZsdoc",
        "outputId": "28d90a12-1f22-4731-b7a2-e5dc73fc9961"
      },
      "execution_count": null,
      "outputs": [
        {
          "output_type": "execute_result",
          "data": {
            "text/html": [
              "\n",
              "  <div id=\"df-3dd74a7a-7ef1-472e-8e8b-99f6aa0c87ca\">\n",
              "    <div class=\"colab-df-container\">\n",
              "      <div>\n",
              "<style scoped>\n",
              "    .dataframe tbody tr th:only-of-type {\n",
              "        vertical-align: middle;\n",
              "    }\n",
              "\n",
              "    .dataframe tbody tr th {\n",
              "        vertical-align: top;\n",
              "    }\n",
              "\n",
              "    .dataframe thead th {\n",
              "        text-align: right;\n",
              "    }\n",
              "</style>\n",
              "<table border=\"1\" class=\"dataframe\">\n",
              "  <thead>\n",
              "    <tr style=\"text-align: right;\">\n",
              "      <th></th>\n",
              "      <th>Company_id</th>\n",
              "      <th>Company</th>\n",
              "    </tr>\n",
              "  </thead>\n",
              "  <tbody>\n",
              "    <tr>\n",
              "      <th>0</th>\n",
              "      <td>795908</td>\n",
              "      <td></td>\n",
              "    </tr>\n",
              "    <tr>\n",
              "      <th>1</th>\n",
              "      <td>773085</td>\n",
              "      <td>0 2 Convergencia Digital S A S</td>\n",
              "    </tr>\n",
              "    <tr>\n",
              "      <th>2</th>\n",
              "      <td>763230</td>\n",
              "      <td>2 Way Sports</td>\n",
              "    </tr>\n",
              "    <tr>\n",
              "      <th>3</th>\n",
              "      <td>795148</td>\n",
              "      <td>23Ky Colombia S.A.S.</td>\n",
              "    </tr>\n",
              "    <tr>\n",
              "      <th>4</th>\n",
              "      <td>891553</td>\n",
              "      <td>60 Decibels</td>\n",
              "    </tr>\n",
              "  </tbody>\n",
              "</table>\n",
              "</div>\n",
              "      <button class=\"colab-df-convert\" onclick=\"convertToInteractive('df-3dd74a7a-7ef1-472e-8e8b-99f6aa0c87ca')\"\n",
              "              title=\"Convert this dataframe to an interactive table.\"\n",
              "              style=\"display:none;\">\n",
              "        \n",
              "  <svg xmlns=\"http://www.w3.org/2000/svg\" height=\"24px\"viewBox=\"0 0 24 24\"\n",
              "       width=\"24px\">\n",
              "    <path d=\"M0 0h24v24H0V0z\" fill=\"none\"/>\n",
              "    <path d=\"M18.56 5.44l.94 2.06.94-2.06 2.06-.94-2.06-.94-.94-2.06-.94 2.06-2.06.94zm-11 1L8.5 8.5l.94-2.06 2.06-.94-2.06-.94L8.5 2.5l-.94 2.06-2.06.94zm10 10l.94 2.06.94-2.06 2.06-.94-2.06-.94-.94-2.06-.94 2.06-2.06.94z\"/><path d=\"M17.41 7.96l-1.37-1.37c-.4-.4-.92-.59-1.43-.59-.52 0-1.04.2-1.43.59L10.3 9.45l-7.72 7.72c-.78.78-.78 2.05 0 2.83L4 21.41c.39.39.9.59 1.41.59.51 0 1.02-.2 1.41-.59l7.78-7.78 2.81-2.81c.8-.78.8-2.07 0-2.86zM5.41 20L4 18.59l7.72-7.72 1.47 1.35L5.41 20z\"/>\n",
              "  </svg>\n",
              "      </button>\n",
              "      \n",
              "  <style>\n",
              "    .colab-df-container {\n",
              "      display:flex;\n",
              "      flex-wrap:wrap;\n",
              "      gap: 12px;\n",
              "    }\n",
              "\n",
              "    .colab-df-convert {\n",
              "      background-color: #E8F0FE;\n",
              "      border: none;\n",
              "      border-radius: 50%;\n",
              "      cursor: pointer;\n",
              "      display: none;\n",
              "      fill: #1967D2;\n",
              "      height: 32px;\n",
              "      padding: 0 0 0 0;\n",
              "      width: 32px;\n",
              "    }\n",
              "\n",
              "    .colab-df-convert:hover {\n",
              "      background-color: #E2EBFA;\n",
              "      box-shadow: 0px 1px 2px rgba(60, 64, 67, 0.3), 0px 1px 3px 1px rgba(60, 64, 67, 0.15);\n",
              "      fill: #174EA6;\n",
              "    }\n",
              "\n",
              "    [theme=dark] .colab-df-convert {\n",
              "      background-color: #3B4455;\n",
              "      fill: #D2E3FC;\n",
              "    }\n",
              "\n",
              "    [theme=dark] .colab-df-convert:hover {\n",
              "      background-color: #434B5C;\n",
              "      box-shadow: 0px 1px 3px 1px rgba(0, 0, 0, 0.15);\n",
              "      filter: drop-shadow(0px 1px 2px rgba(0, 0, 0, 0.3));\n",
              "      fill: #FFFFFF;\n",
              "    }\n",
              "  </style>\n",
              "\n",
              "      <script>\n",
              "        const buttonEl =\n",
              "          document.querySelector('#df-3dd74a7a-7ef1-472e-8e8b-99f6aa0c87ca button.colab-df-convert');\n",
              "        buttonEl.style.display =\n",
              "          google.colab.kernel.accessAllowed ? 'block' : 'none';\n",
              "\n",
              "        async function convertToInteractive(key) {\n",
              "          const element = document.querySelector('#df-3dd74a7a-7ef1-472e-8e8b-99f6aa0c87ca');\n",
              "          const dataTable =\n",
              "            await google.colab.kernel.invokeFunction('convertToInteractive',\n",
              "                                                     [key], {});\n",
              "          if (!dataTable) return;\n",
              "\n",
              "          const docLinkHtml = 'Like what you see? Visit the ' +\n",
              "            '<a target=\"_blank\" href=https://colab.research.google.com/notebooks/data_table.ipynb>data table notebook</a>'\n",
              "            + ' to learn more about interactive tables.';\n",
              "          element.innerHTML = '';\n",
              "          dataTable['output_type'] = 'display_data';\n",
              "          await google.colab.output.renderOutput(dataTable, element);\n",
              "          const docLink = document.createElement('div');\n",
              "          docLink.innerHTML = docLinkHtml;\n",
              "          element.appendChild(docLink);\n",
              "        }\n",
              "      </script>\n",
              "    </div>\n",
              "  </div>\n",
              "  "
            ],
            "text/plain": [
              "   Company_id                          Company\n",
              "0      795908                                 \n",
              "1      773085   0 2 Convergencia Digital S A S\n",
              "2      763230                    2 Way Sports \n",
              "3      795148             23Ky Colombia S.A.S.\n",
              "4      891553                      60 Decibels"
            ]
          },
          "metadata": {},
          "execution_count": 84
        }
      ]
    }
  ]
}