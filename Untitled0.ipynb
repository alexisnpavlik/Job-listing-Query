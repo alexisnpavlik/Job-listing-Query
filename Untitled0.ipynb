{
  "nbformat": 4,
  "nbformat_minor": 0,
  "metadata": {
    "colab": {
      "name": "Untitled0.ipynb",
      "provenance": [],
      "collapsed_sections": [],
      "include_colab_link": true
    },
    "kernelspec": {
      "name": "python3",
      "display_name": "Python 3"
    },
    "language_info": {
      "name": "python"
    }
  },
  "cells": [
    {
      "cell_type": "markdown",
      "metadata": {
        "id": "view-in-github",
        "colab_type": "text"
      },
      "source": [
        "<a href=\"https://colab.research.google.com/github/alexisnpavlik/Job-listing-Query/blob/main/Untitled0.ipynb\" target=\"_parent\"><img src=\"https://colab.research.google.com/assets/colab-badge.svg\" alt=\"Open In Colab\"/></a>"
      ]
    },
    {
      "cell_type": "code",
      "source": [
        "# Importar librerias necesarias \n",
        "\n",
        "!pip install hubspot-api-client==3.8.2\n",
        "\n",
        "from datetime import datetime, timedelta\n",
        "import time\n",
        "\n",
        "from hubspot import HubSpot\n",
        "from hubspot.crm.deals import PublicObjectSearchRequest, Filter, FilterGroup\n",
        "from hubspot.crm.associations import BatchInputPublicAssociation, BatchInputPublicObjectId, ApiException\n",
        "\n",
        "from hubspot.crm.tickets import (\n",
        "     PublicObjectSearchRequest, \n",
        "     Filter, \n",
        "     FilterGroup, \n",
        "     BatchReadInputSimplePublicObjectId\n",
        ")\n",
        "\n",
        "import pandas as pd\n",
        "\n",
        "hubspot_key = '14ebada7-1a03-452a-b71b-729f6fe6554e'\n",
        "hubspot_api = HubSpot(api_key=hubspot_key)\n",
        "LIVE_OPPS_ID = 1480247"
      ],
      "metadata": {
        "colab": {
          "base_uri": "https://localhost:8080/"
        },
        "id": "j7q2QoNE8fkg",
        "outputId": "228e5964-4c24-4736-dc55-c871087f8d8e"
      },
      "execution_count": 1,
      "outputs": [
        {
          "output_type": "stream",
          "name": "stdout",
          "text": [
            "Collecting hubspot-api-client==3.8.2\n",
            "  Downloading hubspot_api_client-3.8.2-py3-none-any.whl (2.0 MB)\n",
            "\u001b[K     |████████████████████████████████| 2.0 MB 5.3 MB/s \n",
            "\u001b[?25hRequirement already satisfied: certifi in /usr/local/lib/python3.7/dist-packages (from hubspot-api-client==3.8.2) (2021.10.8)\n",
            "Requirement already satisfied: python-dateutil in /usr/local/lib/python3.7/dist-packages (from hubspot-api-client==3.8.2) (2.8.2)\n",
            "Requirement already satisfied: six>=1.10 in /usr/local/lib/python3.7/dist-packages (from hubspot-api-client==3.8.2) (1.15.0)\n",
            "Requirement already satisfied: urllib3>=1.15 in /usr/local/lib/python3.7/dist-packages (from hubspot-api-client==3.8.2) (1.24.3)\n",
            "Installing collected packages: hubspot-api-client\n",
            "Successfully installed hubspot-api-client-3.8.2\n"
          ]
        }
      ]
    },
    {
      "cell_type": "code",
      "source": [
        "live_opps_stages = hubspot_api.crm.pipelines.pipelines_api.get_by_id(object_type='tickets',pipeline_id=LIVE_OPPS_ID).stages\n",
        "live_opps_stages = {x.id: x.label for x in live_opps_stages}"
      ],
      "metadata": {
        "id": "hEtvOOeklyjU"
      },
      "execution_count": 7,
      "outputs": []
    },
    {
      "cell_type": "code",
      "source": [
        "# Filtro de propiedades\n",
        "\n",
        "tso_tickets_rprops = [\n",
        "    'opp_idnumber',\n",
        "    'hs_pipeline_stage',\n",
        "    'failed_to_fulfill_reason',\n",
        "    'hs_pipeline',\n",
        "    'associations',\n",
        "    'comments_of_failure',\n",
        "    'ticket_owner'\n",
        "]"
      ],
      "metadata": {
        "id": "fQTAIabhNLl_"
      },
      "execution_count": 2,
      "outputs": []
    },
    {
      "cell_type": "code",
      "source": [
        "# Traigo todas las oportunidades aplicando los filtros\n",
        "\n",
        "all_tickets = hubspot_api.crm.tickets.get_all(properties=tso_tickets_rprops)"
      ],
      "metadata": {
        "id": "9p14tGwbL0c9"
      },
      "execution_count": 3,
      "outputs": []
    },
    {
      "cell_type": "code",
      "source": [
        "# Consultar un registro especifico\n",
        "\n",
        "all_tickets[0]"
      ],
      "metadata": {
        "colab": {
          "base_uri": "https://localhost:8080/"
        },
        "id": "NuqSJmkaNU2s",
        "outputId": "d797357d-9e2e-4199-a684-d6c57efaf03e"
      },
      "execution_count": 4,
      "outputs": [
        {
          "output_type": "execute_result",
          "data": {
            "text/plain": [
              "{'archived': False,\n",
              " 'archived_at': None,\n",
              " 'associations': None,\n",
              " 'created_at': datetime.datetime(2020, 1, 22, 21, 13, 30, 46000, tzinfo=tzlocal()),\n",
              " 'id': '79146154',\n",
              " 'properties': {'comments_of_failure': None,\n",
              "                'createdate': '2020-01-22T21:13:30.046Z',\n",
              "                'failed_to_fulfill_reason': None,\n",
              "                'hs_lastmodifieddate': '2020-08-15T05:21:46.465Z',\n",
              "                'hs_object_id': '79146154',\n",
              "                'hs_pipeline': '1486906',\n",
              "                'hs_pipeline_stage': '1486907',\n",
              "                'opp_idnumber': None},\n",
              " 'updated_at': datetime.datetime(2020, 8, 15, 5, 21, 46, 465000, tzinfo=tzlocal())}"
            ]
          },
          "metadata": {},
          "execution_count": 4
        }
      ]
    },
    {
      "cell_type": "code",
      "source": [
        "# Lista que recorre los diccionarios (No tocar)\n",
        "[[x.properties['opp_idnumber'], x.properties['opp_idnumber'], live_opps_stages[x.properties['hs_pipeline_stage']]] for x in all_tickets if x.properties['hs_pipeline']==LIVE_OPPS_ID and x.properties['opp_idnumber']]"
      ],
      "metadata": {
        "colab": {
          "base_uri": "https://localhost:8080/"
        },
        "id": "Wu-8yHINMZ53",
        "outputId": "f51298b7-4bc1-4807-9658-5d5676f5f4a9"
      },
      "execution_count": 5,
      "outputs": [
        {
          "output_type": "execute_result",
          "data": {
            "text/plain": [
              "[]"
            ]
          },
          "metadata": {},
          "execution_count": 5
        }
      ]
    },
    {
      "cell_type": "code",
      "source": [
        "# Editar junto con los filtros y agregar las propiedad\n",
        "\n",
        "all_tickets_array = [[\n",
        "    x.properties['opp_idnumber'], \n",
        "    x.properties['failed_to_fulfill_reason'], \n",
        "    x.properties['hs_pipeline'], \n",
        "    live_opps_stages[x.properties['hs_pipeline_stage']]] for x in all_tickets if x.properties['hs_pipeline']==str(LIVE_OPPS_ID) and x.properties['opp_idnumber']]"
      ],
      "metadata": {
        "id": "PrWcPDuQPY2J"
      },
      "execution_count": 8,
      "outputs": []
    },
    {
      "cell_type": "code",
      "source": [
        "# Convierte los datos en una dataframa (tambien agregar las propiedades aqui)\n",
        "hubspot_df=pd.DataFrame(all_tickets_array, columns=['opportunity_id', 'failed_reason','hs_pipeline', 'ticket_stage'])"
      ],
      "metadata": {
        "id": "ySOsSDr7PjfV"
      },
      "execution_count": 9,
      "outputs": []
    },
    {
      "cell_type": "code",
      "source": [
        "hubspot_df.head()"
      ],
      "metadata": {
        "colab": {
          "base_uri": "https://localhost:8080/",
          "height": 206
        },
        "id": "8A6aBO15hvpb",
        "outputId": "f124ff05-5713-44c5-fcbb-5debecb8a66b"
      },
      "execution_count": 10,
      "outputs": [
        {
          "output_type": "execute_result",
          "data": {
            "text/html": [
              "\n",
              "  <div id=\"df-7ba475ba-540b-4045-b18f-df5c41270bd0\">\n",
              "    <div class=\"colab-df-container\">\n",
              "      <div>\n",
              "<style scoped>\n",
              "    .dataframe tbody tr th:only-of-type {\n",
              "        vertical-align: middle;\n",
              "    }\n",
              "\n",
              "    .dataframe tbody tr th {\n",
              "        vertical-align: top;\n",
              "    }\n",
              "\n",
              "    .dataframe thead th {\n",
              "        text-align: right;\n",
              "    }\n",
              "</style>\n",
              "<table border=\"1\" class=\"dataframe\">\n",
              "  <thead>\n",
              "    <tr style=\"text-align: right;\">\n",
              "      <th></th>\n",
              "      <th>opportunity_id</th>\n",
              "      <th>failed_reason</th>\n",
              "      <th>hs_pipeline</th>\n",
              "      <th>ticket_stage</th>\n",
              "    </tr>\n",
              "  </thead>\n",
              "  <tbody>\n",
              "    <tr>\n",
              "      <th>0</th>\n",
              "      <td>10984</td>\n",
              "      <td>None</td>\n",
              "      <td>1480247</td>\n",
              "      <td>Opps Rejected</td>\n",
              "    </tr>\n",
              "    <tr>\n",
              "      <th>1</th>\n",
              "      <td>11013</td>\n",
              "      <td>None</td>\n",
              "      <td>1480247</td>\n",
              "      <td>Opps Rejected</td>\n",
              "    </tr>\n",
              "    <tr>\n",
              "      <th>2</th>\n",
              "      <td>11014</td>\n",
              "      <td>None</td>\n",
              "      <td>1480247</td>\n",
              "      <td>Opps Rejected</td>\n",
              "    </tr>\n",
              "    <tr>\n",
              "      <th>3</th>\n",
              "      <td>11019</td>\n",
              "      <td>None</td>\n",
              "      <td>1480247</td>\n",
              "      <td>Opps Rejected</td>\n",
              "    </tr>\n",
              "    <tr>\n",
              "      <th>4</th>\n",
              "      <td>11035</td>\n",
              "      <td>None</td>\n",
              "      <td>1480247</td>\n",
              "      <td>Opps Rejected</td>\n",
              "    </tr>\n",
              "  </tbody>\n",
              "</table>\n",
              "</div>\n",
              "      <button class=\"colab-df-convert\" onclick=\"convertToInteractive('df-7ba475ba-540b-4045-b18f-df5c41270bd0')\"\n",
              "              title=\"Convert this dataframe to an interactive table.\"\n",
              "              style=\"display:none;\">\n",
              "        \n",
              "  <svg xmlns=\"http://www.w3.org/2000/svg\" height=\"24px\"viewBox=\"0 0 24 24\"\n",
              "       width=\"24px\">\n",
              "    <path d=\"M0 0h24v24H0V0z\" fill=\"none\"/>\n",
              "    <path d=\"M18.56 5.44l.94 2.06.94-2.06 2.06-.94-2.06-.94-.94-2.06-.94 2.06-2.06.94zm-11 1L8.5 8.5l.94-2.06 2.06-.94-2.06-.94L8.5 2.5l-.94 2.06-2.06.94zm10 10l.94 2.06.94-2.06 2.06-.94-2.06-.94-.94-2.06-.94 2.06-2.06.94z\"/><path d=\"M17.41 7.96l-1.37-1.37c-.4-.4-.92-.59-1.43-.59-.52 0-1.04.2-1.43.59L10.3 9.45l-7.72 7.72c-.78.78-.78 2.05 0 2.83L4 21.41c.39.39.9.59 1.41.59.51 0 1.02-.2 1.41-.59l7.78-7.78 2.81-2.81c.8-.78.8-2.07 0-2.86zM5.41 20L4 18.59l7.72-7.72 1.47 1.35L5.41 20z\"/>\n",
              "  </svg>\n",
              "      </button>\n",
              "      \n",
              "  <style>\n",
              "    .colab-df-container {\n",
              "      display:flex;\n",
              "      flex-wrap:wrap;\n",
              "      gap: 12px;\n",
              "    }\n",
              "\n",
              "    .colab-df-convert {\n",
              "      background-color: #E8F0FE;\n",
              "      border: none;\n",
              "      border-radius: 50%;\n",
              "      cursor: pointer;\n",
              "      display: none;\n",
              "      fill: #1967D2;\n",
              "      height: 32px;\n",
              "      padding: 0 0 0 0;\n",
              "      width: 32px;\n",
              "    }\n",
              "\n",
              "    .colab-df-convert:hover {\n",
              "      background-color: #E2EBFA;\n",
              "      box-shadow: 0px 1px 2px rgba(60, 64, 67, 0.3), 0px 1px 3px 1px rgba(60, 64, 67, 0.15);\n",
              "      fill: #174EA6;\n",
              "    }\n",
              "\n",
              "    [theme=dark] .colab-df-convert {\n",
              "      background-color: #3B4455;\n",
              "      fill: #D2E3FC;\n",
              "    }\n",
              "\n",
              "    [theme=dark] .colab-df-convert:hover {\n",
              "      background-color: #434B5C;\n",
              "      box-shadow: 0px 1px 3px 1px rgba(0, 0, 0, 0.15);\n",
              "      filter: drop-shadow(0px 1px 2px rgba(0, 0, 0, 0.3));\n",
              "      fill: #FFFFFF;\n",
              "    }\n",
              "  </style>\n",
              "\n",
              "      <script>\n",
              "        const buttonEl =\n",
              "          document.querySelector('#df-7ba475ba-540b-4045-b18f-df5c41270bd0 button.colab-df-convert');\n",
              "        buttonEl.style.display =\n",
              "          google.colab.kernel.accessAllowed ? 'block' : 'none';\n",
              "\n",
              "        async function convertToInteractive(key) {\n",
              "          const element = document.querySelector('#df-7ba475ba-540b-4045-b18f-df5c41270bd0');\n",
              "          const dataTable =\n",
              "            await google.colab.kernel.invokeFunction('convertToInteractive',\n",
              "                                                     [key], {});\n",
              "          if (!dataTable) return;\n",
              "\n",
              "          const docLinkHtml = 'Like what you see? Visit the ' +\n",
              "            '<a target=\"_blank\" href=https://colab.research.google.com/notebooks/data_table.ipynb>data table notebook</a>'\n",
              "            + ' to learn more about interactive tables.';\n",
              "          element.innerHTML = '';\n",
              "          dataTable['output_type'] = 'display_data';\n",
              "          await google.colab.output.renderOutput(dataTable, element);\n",
              "          const docLink = document.createElement('div');\n",
              "          docLink.innerHTML = docLinkHtml;\n",
              "          element.appendChild(docLink);\n",
              "        }\n",
              "      </script>\n",
              "    </div>\n",
              "  </div>\n",
              "  "
            ],
            "text/plain": [
              "  opportunity_id failed_reason hs_pipeline   ticket_stage\n",
              "0          10984          None     1480247  Opps Rejected\n",
              "1          11013          None     1480247  Opps Rejected\n",
              "2          11014          None     1480247  Opps Rejected\n",
              "3          11019          None     1480247  Opps Rejected\n",
              "4          11035          None     1480247  Opps Rejected"
            ]
          },
          "metadata": {},
          "execution_count": 10
        }
      ]
    }
  ]
}